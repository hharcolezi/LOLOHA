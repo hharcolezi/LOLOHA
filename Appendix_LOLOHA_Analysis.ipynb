{
 "cells": [
  {
   "cell_type": "markdown",
   "id": "c0081a55",
   "metadata": {},
   "source": [
    "## References\n",
    "- [1] Erlingsson, Pihur, and Korolova (2014) \"RAPPOR: Randomized aggregatable privacy-preserving ordinal response\" (ACM CCS).\n",
    "- [2] Arcolezi et al (2022) \"Improving the Utility of Locally Differentially Private Protocols for Longitudinal and Multidimensional Frequency Estimates\" (Digital Communications and Networks).\n",
    "- [3] Wang et al (2017) \"Locally differentially private protocols for frequency estimation\" (USENIX Security)."
   ]
  },
  {
   "cell_type": "code",
   "execution_count": 1,
   "id": "78b15e4f",
   "metadata": {},
   "outputs": [],
   "source": [
    "import warnings; warnings.filterwarnings('ignore')\n",
    "import sympy as sym\n",
    "import numpy as np"
   ]
  },
  {
   "cell_type": "markdown",
   "id": "890c08c9",
   "metadata": {},
   "source": [
    "#### Longitudinal Estimator [2] of chaining two LDP protocols w.p. $p_1,q_1$ (first round - PRR) and $p_2,q_2$ (second round - IRR)"
   ]
  },
  {
   "cell_type": "code",
   "execution_count": 2,
   "id": "0fda39c3",
   "metadata": {},
   "outputs": [
    {
     "name": "stdout",
     "output_type": "stream",
     "text": [
      "estimator:\n"
     ]
    },
    {
     "data": {
      "text/latex": [
       "$\\displaystyle \\frac{C(v_{i}) - n q_{1} \\left(p_{2} - q_{2}\\right) - n q_{2}}{n \\left(p_{1} - q_{1}\\right) \\left(p_{2} - q_{2}\\right)}$"
      ],
      "text/plain": [
       "(C(v_{i}) - n*q1*(p2 - q2) - n*q2)/(n*(p1 - q1)*(p2 - q2))"
      ]
     },
     "execution_count": 2,
     "metadata": {},
     "output_type": "execute_result"
    }
   ],
   "source": [
    "p1 = sym.Symbol('p1')\n",
    "p2 = sym.Symbol('p2')\n",
    "q1 = sym.Symbol('q1')\n",
    "q2 = sym.Symbol('q2')\n",
    "n = sym.Symbol('n') \n",
    "C = sym.Symbol('C(v_{i})')\n",
    "\n",
    "print('estimator:')\n",
    "f_L = sym.simplify((C-n*q2)/(p2-q2) - n*q1)/(n*(p1-q1))\n",
    "f_L"
   ]
  },
  {
   "cell_type": "markdown",
   "id": "5a0b9eea",
   "metadata": {},
   "source": [
    "#### Expectation of the estimator (unbiased if $\\mathbb{E}[f_L(v)]=f(v)$) [2]"
   ]
  },
  {
   "cell_type": "code",
   "execution_count": 3,
   "id": "2999582a",
   "metadata": {},
   "outputs": [
    {
     "data": {
      "text/latex": [
       "$\\displaystyle f$"
      ],
      "text/plain": [
       "f"
      ]
     },
     "execution_count": 3,
     "metadata": {},
     "output_type": "execute_result"
    }
   ],
   "source": [
    "p1 = sym.Symbol('p1')\n",
    "p2 = sym.Symbol('p2')\n",
    "\n",
    "q1 = sym.Symbol('q1')\n",
    "q2 = sym.Symbol('q2')\n",
    "n = sym.Symbol('n')\n",
    "f = sym.Symbol('f')\n",
    "\n",
    "E_n = n*f*(p1*p2 + (1-p1)*q2) + (n - n*f) * (q1*p2 + (1-q1)*q2)\n",
    "E_fl = (E_n - n*q1*(p2 - q2) - n*q2) / (n*(p1 - q1) * (p2 - q2))\n",
    "sym.simplify(E_fl)"
   ]
  },
  {
   "cell_type": "markdown",
   "id": "0716fa31",
   "metadata": {},
   "source": [
    "The expected value converges to f(vi), i.e., unbiased estimation"
   ]
  },
  {
   "cell_type": "markdown",
   "id": "528e223f",
   "metadata": {},
   "source": [
    "#### Variance of the estimator [2]"
   ]
  },
  {
   "cell_type": "code",
   "execution_count": 4,
   "id": "1aa0ea8c",
   "metadata": {},
   "outputs": [
    {
     "data": {
      "text/latex": [
       "$\\displaystyle \\frac{\\left(p_{2} q_{1} - q_{2} \\left(q_{1} - 1\\right)\\right) \\left(- p_{2} q_{1} + q_{2} \\left(q_{1} - 1\\right) + 1\\right)}{n \\left(p_{1} - q_{1}\\right)^{2} \\left(p_{2} - q_{2}\\right)^{2}}$"
      ],
      "text/plain": [
       "(p2*q1 - q2*(q1 - 1))*(-p2*q1 + q2*(q1 - 1) + 1)/(n*(p1 - q1)**2*(p2 - q2)**2)"
      ]
     },
     "execution_count": 4,
     "metadata": {},
     "output_type": "execute_result"
    }
   ],
   "source": [
    "# approximate variance with f = 0\n",
    "f = 0\n",
    "\n",
    "sig = q1*p2 + (1 - q1) * q2 + f*(((p1*p2) - p1*(1-p2)) + (q2*(1-p1) - (1-q2)*(1-p1)))\n",
    "    \n",
    "sym.simplify((sig * (1 - sig)) / (n * (p1 - q1)**2 * (p2 - q2)**2))"
   ]
  },
  {
   "cell_type": "markdown",
   "id": "9894b462",
   "metadata": {},
   "source": [
    "## LOngitudinal LOcal HAshing (LOLOHA)"
   ]
  },
  {
   "cell_type": "markdown",
   "id": "10c658bb",
   "metadata": {},
   "source": [
    "#### Let $\\epsilon_1 = \\alpha \\epsilon_{\\infty}$, for $\\alpha \\in (0,1)$"
   ]
  },
  {
   "cell_type": "code",
   "execution_count": 5,
   "id": "44a8872c",
   "metadata": {
    "scrolled": true
   },
   "outputs": [
    {
     "data": {
      "text/latex": [
       "$\\displaystyle \\frac{e^{\\epsilon_{\\infty}}}{g + e^{\\epsilon_{\\infty}} - 1}$"
      ],
      "text/plain": [
       "exp(\\epsilon_{\\infty})/(g + exp(\\epsilon_{\\infty}) - 1)"
      ]
     },
     "metadata": {},
     "output_type": "display_data"
    },
    {
     "data": {
      "text/latex": [
       "$\\displaystyle \\frac{1}{g}$"
      ],
      "text/plain": [
       "1/g"
      ]
     },
     "metadata": {},
     "output_type": "display_data"
    },
    {
     "data": {
      "text/latex": [
       "$\\displaystyle \\frac{\\frac{1 - \\frac{e^{\\epsilon_{\\infty}}}{g + e^{\\epsilon_{\\infty}} - 1}}{g - 1} - \\frac{e^{\\epsilon_{\\infty}} e^{\\alpha \\epsilon_{\\infty}}}{g + e^{\\epsilon_{\\infty}} - 1}}{\\frac{g \\left(1 - \\frac{e^{\\epsilon_{\\infty}}}{g + e^{\\epsilon_{\\infty}} - 1}\\right) e^{\\alpha \\epsilon_{\\infty}}}{g - 1} - \\frac{\\left(1 - \\frac{e^{\\epsilon_{\\infty}}}{g + e^{\\epsilon_{\\infty}} - 1}\\right) e^{\\alpha \\epsilon_{\\infty}}}{g - 1} + \\frac{1 - \\frac{e^{\\epsilon_{\\infty}}}{g + e^{\\epsilon_{\\infty}} - 1}}{g - 1} - \\frac{\\left(g - 1\\right) e^{\\epsilon_{\\infty}}}{g + e^{\\epsilon_{\\infty}} - 1} - \\frac{e^{\\epsilon_{\\infty}} e^{\\alpha \\epsilon_{\\infty}}}{g + e^{\\epsilon_{\\infty}} - 1}}$"
      ],
      "text/plain": [
       "((1 - exp(\\epsilon_{\\infty})/(g + exp(\\epsilon_{\\infty}) - 1))/(g - 1) - exp(\\epsilon_{\\infty})*exp(\\alpha*\\epsilon_{\\infty})/(g + exp(\\epsilon_{\\infty}) - 1))/(g*(1 - exp(\\epsilon_{\\infty})/(g + exp(\\epsilon_{\\infty}) - 1))*exp(\\alpha*\\epsilon_{\\infty})/(g - 1) - (1 - exp(\\epsilon_{\\infty})/(g + exp(\\epsilon_{\\infty}) - 1))*exp(\\alpha*\\epsilon_{\\infty})/(g - 1) + (1 - exp(\\epsilon_{\\infty})/(g + exp(\\epsilon_{\\infty}) - 1))/(g - 1) - (g - 1)*exp(\\epsilon_{\\infty})/(g + exp(\\epsilon_{\\infty}) - 1) - exp(\\epsilon_{\\infty})*exp(\\alpha*\\epsilon_{\\infty})/(g + exp(\\epsilon_{\\infty}) - 1))"
      ]
     },
     "metadata": {},
     "output_type": "display_data"
    },
    {
     "data": {
      "text/latex": [
       "$\\displaystyle \\frac{- \\frac{\\frac{1 - \\frac{e^{\\epsilon_{\\infty}}}{g + e^{\\epsilon_{\\infty}} - 1}}{g - 1} - \\frac{e^{\\epsilon_{\\infty}} e^{\\alpha \\epsilon_{\\infty}}}{g + e^{\\epsilon_{\\infty}} - 1}}{\\frac{g \\left(1 - \\frac{e^{\\epsilon_{\\infty}}}{g + e^{\\epsilon_{\\infty}} - 1}\\right) e^{\\alpha \\epsilon_{\\infty}}}{g - 1} - \\frac{\\left(1 - \\frac{e^{\\epsilon_{\\infty}}}{g + e^{\\epsilon_{\\infty}} - 1}\\right) e^{\\alpha \\epsilon_{\\infty}}}{g - 1} + \\frac{1 - \\frac{e^{\\epsilon_{\\infty}}}{g + e^{\\epsilon_{\\infty}} - 1}}{g - 1} - \\frac{\\left(g - 1\\right) e^{\\epsilon_{\\infty}}}{g + e^{\\epsilon_{\\infty}} - 1} - \\frac{e^{\\epsilon_{\\infty}} e^{\\alpha \\epsilon_{\\infty}}}{g + e^{\\epsilon_{\\infty}} - 1}} + 1}{g - 1}$"
      ],
      "text/plain": [
       "(-((1 - exp(\\epsilon_{\\infty})/(g + exp(\\epsilon_{\\infty}) - 1))/(g - 1) - exp(\\epsilon_{\\infty})*exp(\\alpha*\\epsilon_{\\infty})/(g + exp(\\epsilon_{\\infty}) - 1))/(g*(1 - exp(\\epsilon_{\\infty})/(g + exp(\\epsilon_{\\infty}) - 1))*exp(\\alpha*\\epsilon_{\\infty})/(g - 1) - (1 - exp(\\epsilon_{\\infty})/(g + exp(\\epsilon_{\\infty}) - 1))*exp(\\alpha*\\epsilon_{\\infty})/(g - 1) + (1 - exp(\\epsilon_{\\infty})/(g + exp(\\epsilon_{\\infty}) - 1))/(g - 1) - (g - 1)*exp(\\epsilon_{\\infty})/(g + exp(\\epsilon_{\\infty}) - 1) - exp(\\epsilon_{\\infty})*exp(\\alpha*\\epsilon_{\\infty})/(g + exp(\\epsilon_{\\infty}) - 1)) + 1)/(g - 1)"
      ]
     },
     "metadata": {},
     "output_type": "display_data"
    }
   ],
   "source": [
    "eps_perm = sym.Symbol('\\epsilon_{\\infty}')\n",
    "alpha = sym.Symbol(r'\\alpha')\n",
    "eps_1 = alpha * eps_perm\n",
    "k = sym.Symbol('k')\n",
    "n = sym.Symbol('n')\n",
    "C = sym.Symbol('C(v_{i})')\n",
    "g = sym.Symbol('g')\n",
    "\n",
    "# GRR parameters for round 1\n",
    "p1_lh = sym.exp(eps_perm) / (sym.exp(eps_perm) + g - 1)\n",
    "q1_lh_s = (1 - p1_lh) / (g-1)\n",
    "\n",
    "# GRR parameters for round 2\n",
    "p2_lh = (q1_lh_s - sym.exp(eps_1) * p1_lh) / ((-p1_lh * sym.exp(eps_1)) + g*q1_lh_s*sym.exp(eps_1) - q1_lh_s*sym.exp(eps_1) - p1_lh*(g-1)+q1_lh_s)\n",
    "q2_lh = (1 - p2_lh) / (g-1)\n",
    "q1_lh = 1 / g\n",
    "display(p1_lh, q1_lh, p2_lh, q2_lh)"
   ]
  },
  {
   "cell_type": "markdown",
   "id": "cc222da2",
   "metadata": {},
   "source": [
    "#### LOLOHA's longitudinal privacy guarantee ($\\epsilon_{\\infty}$ for Theorem 4.1)"
   ]
  },
  {
   "cell_type": "code",
   "execution_count": 6,
   "id": "8f9184e4",
   "metadata": {},
   "outputs": [
    {
     "data": {
      "text/latex": [
       "$\\displaystyle e^{\\epsilon_{\\infty}}$"
      ],
      "text/plain": [
       "exp(\\epsilon_{\\infty})"
      ]
     },
     "execution_count": 6,
     "metadata": {},
     "output_type": "execute_result"
    }
   ],
   "source": [
    "sym.simplify(p1_lh/q1_lh_s)"
   ]
  },
  {
   "cell_type": "markdown",
   "id": "5ed1f662",
   "metadata": {},
   "source": [
    "#### LOLOHA's first report guarantee ($\\epsilon_1=\\alpha \\epsilon_{\\infty}$ for Theorem 4.2)"
   ]
  },
  {
   "cell_type": "code",
   "execution_count": 7,
   "id": "c1e577dd",
   "metadata": {},
   "outputs": [
    {
     "data": {
      "text/latex": [
       "$\\displaystyle e^{\\alpha \\epsilon_{\\infty}}$"
      ],
      "text/plain": [
       "exp(\\alpha*\\epsilon_{\\infty})"
      ]
     },
     "execution_count": 7,
     "metadata": {},
     "output_type": "execute_result"
    }
   ],
   "source": [
    "ps = p1_lh * p2_lh + q1_lh_s * q2_lh\n",
    "qs = p1_lh * q2_lh + q1_lh_s * p2_lh\n",
    "\n",
    "sym.simplify(ps/qs)"
   ]
  },
  {
   "cell_type": "code",
   "execution_count": 8,
   "id": "46c1dbf2",
   "metadata": {},
   "outputs": [
    {
     "data": {
      "text/latex": [
       "$\\displaystyle \\frac{\\left(1 - e^{2 \\epsilon_{\\infty}}\\right) e^{\\alpha \\epsilon_{\\infty}}}{- g^{2} e^{\\epsilon_{\\infty}} + g^{2} e^{\\alpha \\epsilon_{\\infty}} - g e^{2 \\epsilon_{\\infty}} + 2 g e^{\\epsilon_{\\infty}} - 2 g e^{\\alpha \\epsilon_{\\infty}} + g + e^{2 \\epsilon_{\\infty}} + e^{\\alpha \\epsilon_{\\infty}} - e^{\\epsilon_{\\infty} \\left(\\alpha + 2\\right)} - 1}$"
      ],
      "text/plain": [
       "(1 - exp(2*\\epsilon_{\\infty}))*exp(\\alpha*\\epsilon_{\\infty})/(-g**2*exp(\\epsilon_{\\infty}) + g**2*exp(\\alpha*\\epsilon_{\\infty}) - g*exp(2*\\epsilon_{\\infty}) + 2*g*exp(\\epsilon_{\\infty}) - 2*g*exp(\\alpha*\\epsilon_{\\infty}) + g + exp(2*\\epsilon_{\\infty}) + exp(\\alpha*\\epsilon_{\\infty}) - exp(\\epsilon_{\\infty}*(\\alpha + 2)) - 1)"
      ]
     },
     "execution_count": 8,
     "metadata": {},
     "output_type": "execute_result"
    }
   ],
   "source": [
    "sym.simplify(ps)"
   ]
  },
  {
   "cell_type": "code",
   "execution_count": 9,
   "id": "9813a923",
   "metadata": {},
   "outputs": [
    {
     "data": {
      "text/latex": [
       "$\\displaystyle \\frac{1 - e^{2 \\epsilon_{\\infty}}}{- g^{2} e^{\\epsilon_{\\infty}} + g^{2} e^{\\alpha \\epsilon_{\\infty}} - g e^{2 \\epsilon_{\\infty}} + 2 g e^{\\epsilon_{\\infty}} - 2 g e^{\\alpha \\epsilon_{\\infty}} + g + e^{2 \\epsilon_{\\infty}} + e^{\\alpha \\epsilon_{\\infty}} - e^{\\epsilon_{\\infty} \\left(\\alpha + 2\\right)} - 1}$"
      ],
      "text/plain": [
       "(1 - exp(2*\\epsilon_{\\infty}))/(-g**2*exp(\\epsilon_{\\infty}) + g**2*exp(\\alpha*\\epsilon_{\\infty}) - g*exp(2*\\epsilon_{\\infty}) + 2*g*exp(\\epsilon_{\\infty}) - 2*g*exp(\\alpha*\\epsilon_{\\infty}) + g + exp(2*\\epsilon_{\\infty}) + exp(\\alpha*\\epsilon_{\\infty}) - exp(\\epsilon_{\\infty}*(\\alpha + 2)) - 1)"
      ]
     },
     "execution_count": 9,
     "metadata": {},
     "output_type": "execute_result"
    }
   ],
   "source": [
    "sym.simplify(qs)"
   ]
  },
  {
   "cell_type": "code",
   "execution_count": 10,
   "id": "4a797c1d",
   "metadata": {},
   "outputs": [],
   "source": [
    "# # Or, as is in paper, in terms of eps_perm and eps_IRR\n",
    "\n",
    "# eps_perm = sym.Symbol('\\epsilon_{\\infty}')\n",
    "# eps_1 = sym.Symbol('\\epsilon_1')\n",
    "# eps_IRR = sym.log((sym.exp(eps_perm+eps_1 )- 1) / (sym.exp(eps_perm) - sym.exp(eps_1)))\n",
    "# g = sym.Symbol('g')\n",
    "# n = sym.Symbol('n')\n",
    "# C = sym.Symbol('C(v_{i})')\n",
    "\n",
    "# p1_lh = sym.exp(eps_perm) / (sym.exp(eps_perm) + g - 1)\n",
    "# q1_lh = 1 / (sym.exp(eps_perm) + g - 1)\n",
    "\n",
    "# p2_lh = sym.exp(eps_IRR) / (sym.exp(eps_IRR) + g - 1)\n",
    "# q2_lh = 1 / (sym.exp(eps_IRR) + g - 1)\n",
    "\n",
    "# ps = p1_lh * p2_lh + q1_lh * q2_lh\n",
    "# qs = p1_lh * q2_lh + q1_lh * p2_lh\n",
    "\n",
    "# display(sym.simplify(ps/qs))\n",
    "# display(sym.simplify(ps))\n",
    "# display(sym.simplify(qs))"
   ]
  },
  {
   "cell_type": "markdown",
   "id": "e897d132",
   "metadata": {},
   "source": [
    "#### LOLOHA's estimation"
   ]
  },
  {
   "cell_type": "code",
   "execution_count": 11,
   "id": "a70578fd",
   "metadata": {},
   "outputs": [
    {
     "data": {
      "text/latex": [
       "$\\displaystyle \\frac{C(v_{i}) g^{3} e^{\\epsilon_{\\infty}} - C(v_{i}) g^{3} e^{\\alpha \\epsilon_{\\infty}} + C(v_{i}) g^{2} e^{2 \\epsilon_{\\infty}} - 2 C(v_{i}) g^{2} e^{\\epsilon_{\\infty}} + 2 C(v_{i}) g^{2} e^{\\alpha \\epsilon_{\\infty}} - C(v_{i}) g^{2} - C(v_{i}) g e^{2 \\epsilon_{\\infty}} - C(v_{i}) g e^{\\alpha \\epsilon_{\\infty}} + C(v_{i}) g e^{\\epsilon_{\\infty} \\left(\\alpha + 2\\right)} + C(v_{i}) g - g^{2} n e^{\\epsilon_{\\infty}} + g^{2} n e^{\\alpha \\epsilon_{\\infty}} - g n e^{2 \\epsilon_{\\infty}} + 2 g n e^{\\epsilon_{\\infty}} - 2 g n e^{\\alpha \\epsilon_{\\infty}} + g n + n e^{2 \\epsilon_{\\infty}} + n e^{\\alpha \\epsilon_{\\infty}} - n e^{\\epsilon_{\\infty} \\left(\\alpha + 2\\right)} - n}{n \\left(- g e^{2 \\epsilon_{\\infty}} - g e^{\\alpha \\epsilon_{\\infty}} + g e^{\\epsilon_{\\infty} \\left(\\alpha + 2\\right)} + g + e^{2 \\epsilon_{\\infty}} + e^{\\alpha \\epsilon_{\\infty}} - e^{\\epsilon_{\\infty} \\left(\\alpha + 2\\right)} - 1\\right)}$"
      ],
      "text/plain": [
       "(C(v_{i})*g**3*exp(\\epsilon_{\\infty}) - C(v_{i})*g**3*exp(\\alpha*\\epsilon_{\\infty}) + C(v_{i})*g**2*exp(2*\\epsilon_{\\infty}) - 2*C(v_{i})*g**2*exp(\\epsilon_{\\infty}) + 2*C(v_{i})*g**2*exp(\\alpha*\\epsilon_{\\infty}) - C(v_{i})*g**2 - C(v_{i})*g*exp(2*\\epsilon_{\\infty}) - C(v_{i})*g*exp(\\alpha*\\epsilon_{\\infty}) + C(v_{i})*g*exp(\\epsilon_{\\infty}*(\\alpha + 2)) + C(v_{i})*g - g**2*n*exp(\\epsilon_{\\infty}) + g**2*n*exp(\\alpha*\\epsilon_{\\infty}) - g*n*exp(2*\\epsilon_{\\infty}) + 2*g*n*exp(\\epsilon_{\\infty}) - 2*g*n*exp(\\alpha*\\epsilon_{\\infty}) + g*n + n*exp(2*\\epsilon_{\\infty}) + n*exp(\\alpha*\\epsilon_{\\infty}) - n*exp(\\epsilon_{\\infty}*(\\alpha + 2)) - n)/(n*(-g*exp(2*\\epsilon_{\\infty}) - g*exp(\\alpha*\\epsilon_{\\infty}) + g*exp(\\epsilon_{\\infty}*(\\alpha + 2)) + g + exp(2*\\epsilon_{\\infty}) + exp(\\alpha*\\epsilon_{\\infty}) - exp(\\epsilon_{\\infty}*(\\alpha + 2)) - 1))"
      ]
     },
     "execution_count": 11,
     "metadata": {},
     "output_type": "execute_result"
    }
   ],
   "source": [
    "F_l = (C - n * q1_lh * (p2_lh - q2_lh) - n * q2_lh) / (n * (p1_lh - q1_lh) * (p2_lh - q2_lh))\n",
    "sym.simplify(F_l)"
   ]
  },
  {
   "cell_type": "markdown",
   "id": "897863b7",
   "metadata": {},
   "source": [
    "#### LOLOHA's variance"
   ]
  },
  {
   "cell_type": "code",
   "execution_count": 12,
   "id": "25f86ff4",
   "metadata": {},
   "outputs": [
    {
     "data": {
      "text/latex": [
       "$\\displaystyle \\frac{\\left(g - 1\\right)^{2} \\left(\\left(1 - e^{\\epsilon_{\\infty} \\left(\\alpha + 1\\right)}\\right) \\left(g e^{\\alpha \\epsilon_{\\infty}} + \\left(1 - g\\right) e^{\\epsilon_{\\infty}} - e^{\\alpha \\epsilon_{\\infty}} - e^{\\epsilon_{\\infty} \\left(\\alpha + 1\\right)} + 1\\right) + \\left(- g e^{\\alpha \\epsilon_{\\infty}} + \\left(g - 1\\right) e^{\\epsilon_{\\infty}} + e^{\\alpha \\epsilon_{\\infty}}\\right) \\left(- g e^{\\alpha \\epsilon_{\\infty}} + \\left(g - 1\\right) e^{\\epsilon_{\\infty}} + e^{\\alpha \\epsilon_{\\infty}} + e^{\\epsilon_{\\infty} \\left(\\alpha + 1\\right)} - 1\\right)\\right) \\left(g + e^{\\epsilon_{\\infty}} - 1\\right)^{2} \\left(- g \\left(- g e^{\\alpha \\epsilon_{\\infty}} + \\left(g - 1\\right) e^{\\epsilon_{\\infty}} + e^{\\alpha \\epsilon_{\\infty}} + e^{\\epsilon_{\\infty} \\left(\\alpha + 1\\right)} - 1\\right) \\left(g e^{\\alpha \\epsilon_{\\infty}} + \\left(1 - g\\right) e^{\\epsilon_{\\infty}} - e^{\\alpha \\epsilon_{\\infty}} - e^{\\epsilon_{\\infty} \\left(\\alpha + 1\\right)} + 1\\right) - \\left(1 - e^{\\epsilon_{\\infty} \\left(\\alpha + 1\\right)}\\right) \\left(g e^{\\alpha \\epsilon_{\\infty}} + \\left(1 - g\\right) e^{\\epsilon_{\\infty}} - e^{\\alpha \\epsilon_{\\infty}} - e^{\\epsilon_{\\infty} \\left(\\alpha + 1\\right)} + 1\\right) + \\left(g e^{\\alpha \\epsilon_{\\infty}} + \\left(1 - g\\right) e^{\\epsilon_{\\infty}} - e^{\\alpha \\epsilon_{\\infty}}\\right) \\left(- g e^{\\alpha \\epsilon_{\\infty}} + \\left(g - 1\\right) e^{\\epsilon_{\\infty}} + e^{\\alpha \\epsilon_{\\infty}} + e^{\\epsilon_{\\infty} \\left(\\alpha + 1\\right)} - 1\\right)\\right)}{\\left(\\left(1 - e^{\\alpha \\epsilon_{\\infty} + \\epsilon_{\\infty}}\\right) \\left(g - 1\\right) \\left(g e^{\\alpha \\epsilon_{\\infty}} - \\left(g - 1\\right) e^{\\epsilon_{\\infty}} - e^{\\alpha \\epsilon_{\\infty}} - e^{\\alpha \\epsilon_{\\infty} + \\epsilon_{\\infty}} + 1\\right) + \\left(g e^{\\alpha \\epsilon_{\\infty}} - \\left(g - 1\\right) e^{\\epsilon_{\\infty}} - e^{\\alpha \\epsilon_{\\infty}}\\right) \\left(- g e^{\\alpha \\epsilon_{\\infty}} + \\left(g - 1\\right) e^{\\epsilon_{\\infty}} + e^{\\alpha \\epsilon_{\\infty}} + e^{\\alpha \\epsilon_{\\infty} + \\epsilon_{\\infty}} - 1\\right)\\right)^{2} \\left(g e^{\\epsilon_{\\infty}} - g - e^{\\epsilon_{\\infty}} + 1\\right)^{2}}$"
      ],
      "text/plain": [
       "(g - 1)**2*((1 - exp(\\epsilon_{\\infty}*(\\alpha + 1)))*(g*exp(\\alpha*\\epsilon_{\\infty}) + (1 - g)*exp(\\epsilon_{\\infty}) - exp(\\alpha*\\epsilon_{\\infty}) - exp(\\epsilon_{\\infty}*(\\alpha + 1)) + 1) + (-g*exp(\\alpha*\\epsilon_{\\infty}) + (g - 1)*exp(\\epsilon_{\\infty}) + exp(\\alpha*\\epsilon_{\\infty}))*(-g*exp(\\alpha*\\epsilon_{\\infty}) + (g - 1)*exp(\\epsilon_{\\infty}) + exp(\\alpha*\\epsilon_{\\infty}) + exp(\\epsilon_{\\infty}*(\\alpha + 1)) - 1))*(g + exp(\\epsilon_{\\infty}) - 1)**2*(-g*(-g*exp(\\alpha*\\epsilon_{\\infty}) + (g - 1)*exp(\\epsilon_{\\infty}) + exp(\\alpha*\\epsilon_{\\infty}) + exp(\\epsilon_{\\infty}*(\\alpha + 1)) - 1)*(g*exp(\\alpha*\\epsilon_{\\infty}) + (1 - g)*exp(\\epsilon_{\\infty}) - exp(\\alpha*\\epsilon_{\\infty}) - exp(\\epsilon_{\\infty}*(\\alpha + 1)) + 1) - (1 - exp(\\epsilon_{\\infty}*(\\alpha + 1)))*(g*exp(\\alpha*\\epsilon_{\\infty}) + (1 - g)*exp(\\epsilon_{\\infty}) - exp(\\alpha*\\epsilon_{\\infty}) - exp(\\epsilon_{\\infty}*(\\alpha + 1)) + 1) + (g*exp(\\alpha*\\epsilon_{\\infty}) + (1 - g)*exp(\\epsilon_{\\infty}) - exp(\\alpha*\\epsilon_{\\infty}))*(-g*exp(\\alpha*\\epsilon_{\\infty}) + (g - 1)*exp(\\epsilon_{\\infty}) + exp(\\alpha*\\epsilon_{\\infty}) + exp(\\epsilon_{\\infty}*(\\alpha + 1)) - 1))/(((1 - exp(\\alpha*\\epsilon_{\\infty} + \\epsilon_{\\infty}))*(g - 1)*(g*exp(\\alpha*\\epsilon_{\\infty}) - (g - 1)*exp(\\epsilon_{\\infty}) - exp(\\alpha*\\epsilon_{\\infty}) - exp(\\alpha*\\epsilon_{\\infty} + \\epsilon_{\\infty}) + 1) + (g*exp(\\alpha*\\epsilon_{\\infty}) - (g - 1)*exp(\\epsilon_{\\infty}) - exp(\\alpha*\\epsilon_{\\infty}))*(-g*exp(\\alpha*\\epsilon_{\\infty}) + (g - 1)*exp(\\epsilon_{\\infty}) + exp(\\alpha*\\epsilon_{\\infty}) + exp(\\alpha*\\epsilon_{\\infty} + \\epsilon_{\\infty}) - 1))**2*(g*exp(\\epsilon_{\\infty}) - g - exp(\\epsilon_{\\infty}) + 1)**2)"
      ]
     },
     "execution_count": 12,
     "metadata": {},
     "output_type": "execute_result"
    }
   ],
   "source": [
    "f = 0 # approximate variance\n",
    "\n",
    "sig = q1_lh*p2_lh + (1 - q1_lh) * q2_lh + f*(((p1_lh*p2_lh) - p1_lh*(1-p2_lh)) + (q2_lh*(1-p1_lh) - (1-q2_lh)*(1-p1_lh)))\n",
    "\n",
    "var = (sig * (1 - sig)) / ((p1_lh - q1_lh)**2 * (p2_lh - q2_lh)**2)\n",
    "var = sym.simplify(var)\n",
    "var"
   ]
  },
  {
   "cell_type": "markdown",
   "id": "36e40c8d",
   "metadata": {},
   "source": [
    "#### Asymptotic utility guarantee of LOLOHA (Proposition 4.4)"
   ]
  },
  {
   "cell_type": "code",
   "execution_count": 13,
   "id": "4788834a",
   "metadata": {},
   "outputs": [
    {
     "data": {
      "text/latex": [
       "$\\displaystyle \\frac{\\sqrt{\\frac{g k \\left(g - 1\\right) \\left(g + e^{\\epsilon_{\\infty}} - 1\\right) \\left(- g e^{\\alpha \\epsilon_{\\infty}} + \\left(g - 1\\right) e^{\\epsilon_{\\infty}} + e^{\\alpha \\epsilon_{\\infty}} + e^{\\alpha \\epsilon_{\\infty} + \\epsilon_{\\infty}} - 1\\right)^{2}}{\\beta n \\left(\\left(1 - e^{\\alpha \\epsilon_{\\infty} + \\epsilon_{\\infty}}\\right) \\left(g - 1\\right) \\left(g e^{\\alpha \\epsilon_{\\infty}} - \\left(g - 1\\right) e^{\\epsilon_{\\infty}} - e^{\\alpha \\epsilon_{\\infty}} - e^{\\alpha \\epsilon_{\\infty} + \\epsilon_{\\infty}} + 1\\right) + \\left(g e^{\\alpha \\epsilon_{\\infty}} - \\left(g - 1\\right) e^{\\epsilon_{\\infty}} - e^{\\alpha \\epsilon_{\\infty}}\\right) \\left(- g e^{\\alpha \\epsilon_{\\infty}} + \\left(g - 1\\right) e^{\\epsilon_{\\infty}} + e^{\\alpha \\epsilon_{\\infty}} + e^{\\alpha \\epsilon_{\\infty} + \\epsilon_{\\infty}} - 1\\right)\\right) \\left(g e^{\\epsilon_{\\infty}} - g - e^{\\epsilon_{\\infty}} + 1\\right)}}}{2}$"
      ],
      "text/plain": [
       "sqrt(g*k*(g - 1)*(g + exp(\\epsilon_{\\infty}) - 1)*(-g*exp(\\alpha*\\epsilon_{\\infty}) + (g - 1)*exp(\\epsilon_{\\infty}) + exp(\\alpha*\\epsilon_{\\infty}) + exp(\\alpha*\\epsilon_{\\infty} + \\epsilon_{\\infty}) - 1)**2/(\\beta*n*((1 - exp(\\alpha*\\epsilon_{\\infty} + \\epsilon_{\\infty}))*(g - 1)*(g*exp(\\alpha*\\epsilon_{\\infty}) - (g - 1)*exp(\\epsilon_{\\infty}) - exp(\\alpha*\\epsilon_{\\infty}) - exp(\\alpha*\\epsilon_{\\infty} + \\epsilon_{\\infty}) + 1) + (g*exp(\\alpha*\\epsilon_{\\infty}) - (g - 1)*exp(\\epsilon_{\\infty}) - exp(\\alpha*\\epsilon_{\\infty}))*(-g*exp(\\alpha*\\epsilon_{\\infty}) + (g - 1)*exp(\\epsilon_{\\infty}) + exp(\\alpha*\\epsilon_{\\infty}) + exp(\\alpha*\\epsilon_{\\infty} + \\epsilon_{\\infty}) - 1))*(g*exp(\\epsilon_{\\infty}) - g - exp(\\epsilon_{\\infty}) + 1)))/2"
      ]
     },
     "execution_count": 13,
     "metadata": {},
     "output_type": "execute_result"
    }
   ],
   "source": [
    "beta = sym.Symbol(r'\\beta')\n",
    "sym.simplify(sym.sqrt(k/(4*beta*n*(p1_lh-q1_lh)*(p2_lh-q2_lh))))"
   ]
  },
  {
   "cell_type": "markdown",
   "id": "6acba8cb",
   "metadata": {},
   "source": [
    "## Optimizing g parameter"
   ]
  },
  {
   "cell_type": "markdown",
   "id": "d403122a",
   "metadata": {},
   "source": [
    "#### Taking partial derivative of LOLOHA's variance w.r.t. g"
   ]
  },
  {
   "cell_type": "code",
   "execution_count": 14,
   "id": "7cc07e96",
   "metadata": {},
   "outputs": [
    {
     "data": {
      "text/latex": [
       "$\\displaystyle \\frac{3 g^{4} e^{2 \\epsilon_{\\infty}} + 3 g^{4} e^{2 \\alpha \\epsilon_{\\infty}} - 6 g^{4} e^{\\epsilon_{\\infty} \\left(\\alpha + 1\\right)} + 4 g^{3} e^{3 \\epsilon_{\\infty}} - 12 g^{3} e^{2 \\epsilon_{\\infty}} - 4 g^{3} e^{\\epsilon_{\\infty}} - 12 g^{3} e^{2 \\alpha \\epsilon_{\\infty}} + 4 g^{3} e^{\\alpha \\epsilon_{\\infty}} + 24 g^{3} e^{\\epsilon_{\\infty} \\left(\\alpha + 1\\right)} - 4 g^{3} e^{\\epsilon_{\\infty} \\left(\\alpha + 2\\right)} + g^{2} e^{4 \\epsilon_{\\infty}} - 12 g^{2} e^{3 \\epsilon_{\\infty}} + 14 g^{2} e^{2 \\epsilon_{\\infty}} + 12 g^{2} e^{\\epsilon_{\\infty}} + 18 g^{2} e^{2 \\alpha \\epsilon_{\\infty}} - 12 g^{2} e^{\\alpha \\epsilon_{\\infty}} - 2 g^{2} e^{2 \\epsilon_{\\infty} \\left(\\alpha + 1\\right)} - 34 g^{2} e^{\\epsilon_{\\infty} \\left(\\alpha + 1\\right)} + 12 g^{2} e^{\\epsilon_{\\infty} \\left(\\alpha + 2\\right)} + 2 g^{2} e^{\\epsilon_{\\infty} \\left(\\alpha + 3\\right)} + g^{2} - 2 g e^{4 \\epsilon_{\\infty}} + 12 g e^{3 \\epsilon_{\\infty}} - 4 g e^{2 \\epsilon_{\\infty}} - 12 g e^{\\epsilon_{\\infty}} - 12 g e^{2 \\alpha \\epsilon_{\\infty}} + 12 g e^{\\alpha \\epsilon_{\\infty}} + 4 g e^{2 \\epsilon_{\\infty} \\left(\\alpha + 1\\right)} + 20 g e^{\\epsilon_{\\infty} \\left(\\alpha + 1\\right)} - 12 g e^{\\epsilon_{\\infty} \\left(\\alpha + 2\\right)} - 4 g e^{\\epsilon_{\\infty} \\left(\\alpha + 3\\right)} - 2 g + e^{4 \\epsilon_{\\infty}} - 4 e^{3 \\epsilon_{\\infty}} - 2 e^{2 \\epsilon_{\\infty}} + 4 e^{\\epsilon_{\\infty}} + 3 e^{2 \\alpha \\epsilon_{\\infty}} - 4 e^{\\alpha \\epsilon_{\\infty}} - 2 e^{2 \\epsilon_{\\infty} \\left(\\alpha + 1\\right)} - 4 e^{\\epsilon_{\\infty} \\left(\\alpha + 1\\right)} - e^{2 \\epsilon_{\\infty} \\left(\\alpha + 2\\right)} + 4 e^{\\epsilon_{\\infty} \\left(\\alpha + 2\\right)} + 4 e^{\\epsilon_{\\infty} \\left(\\alpha + 3\\right)} + 1}{g^{2} e^{4 \\epsilon_{\\infty}} - 2 g^{2} e^{2 \\epsilon_{\\infty}} + g^{2} e^{2 \\alpha \\epsilon_{\\infty}} - 2 g^{2} e^{\\alpha \\epsilon_{\\infty}} - 2 g^{2} e^{2 \\epsilon_{\\infty} \\left(\\alpha + 1\\right)} + g^{2} e^{2 \\epsilon_{\\infty} \\left(\\alpha + 2\\right)} + 4 g^{2} e^{\\epsilon_{\\infty} \\left(\\alpha + 2\\right)} - 2 g^{2} e^{\\epsilon_{\\infty} \\left(\\alpha + 4\\right)} + g^{2} - 2 g e^{4 \\epsilon_{\\infty}} + 4 g e^{2 \\epsilon_{\\infty}} - 2 g e^{2 \\alpha \\epsilon_{\\infty}} + 4 g e^{\\alpha \\epsilon_{\\infty}} + 4 g e^{2 \\epsilon_{\\infty} \\left(\\alpha + 1\\right)} - 2 g e^{2 \\epsilon_{\\infty} \\left(\\alpha + 2\\right)} - 8 g e^{\\epsilon_{\\infty} \\left(\\alpha + 2\\right)} + 4 g e^{\\epsilon_{\\infty} \\left(\\alpha + 4\\right)} - 2 g + e^{4 \\epsilon_{\\infty}} - 2 e^{2 \\epsilon_{\\infty}} + e^{2 \\alpha \\epsilon_{\\infty}} - 2 e^{\\alpha \\epsilon_{\\infty}} - 2 e^{2 \\epsilon_{\\infty} \\left(\\alpha + 1\\right)} + e^{2 \\epsilon_{\\infty} \\left(\\alpha + 2\\right)} + 4 e^{\\epsilon_{\\infty} \\left(\\alpha + 2\\right)} - 2 e^{\\epsilon_{\\infty} \\left(\\alpha + 4\\right)} + 1}$"
      ],
      "text/plain": [
       "(3*g**4*exp(2*\\epsilon_{\\infty}) + 3*g**4*exp(2*\\alpha*\\epsilon_{\\infty}) - 6*g**4*exp(\\epsilon_{\\infty}*(\\alpha + 1)) + 4*g**3*exp(3*\\epsilon_{\\infty}) - 12*g**3*exp(2*\\epsilon_{\\infty}) - 4*g**3*exp(\\epsilon_{\\infty}) - 12*g**3*exp(2*\\alpha*\\epsilon_{\\infty}) + 4*g**3*exp(\\alpha*\\epsilon_{\\infty}) + 24*g**3*exp(\\epsilon_{\\infty}*(\\alpha + 1)) - 4*g**3*exp(\\epsilon_{\\infty}*(\\alpha + 2)) + g**2*exp(4*\\epsilon_{\\infty}) - 12*g**2*exp(3*\\epsilon_{\\infty}) + 14*g**2*exp(2*\\epsilon_{\\infty}) + 12*g**2*exp(\\epsilon_{\\infty}) + 18*g**2*exp(2*\\alpha*\\epsilon_{\\infty}) - 12*g**2*exp(\\alpha*\\epsilon_{\\infty}) - 2*g**2*exp(2*\\epsilon_{\\infty}*(\\alpha + 1)) - 34*g**2*exp(\\epsilon_{\\infty}*(\\alpha + 1)) + 12*g**2*exp(\\epsilon_{\\infty}*(\\alpha + 2)) + 2*g**2*exp(\\epsilon_{\\infty}*(\\alpha + 3)) + g**2 - 2*g*exp(4*\\epsilon_{\\infty}) + 12*g*exp(3*\\epsilon_{\\infty}) - 4*g*exp(2*\\epsilon_{\\infty}) - 12*g*exp(\\epsilon_{\\infty}) - 12*g*exp(2*\\alpha*\\epsilon_{\\infty}) + 12*g*exp(\\alpha*\\epsilon_{\\infty}) + 4*g*exp(2*\\epsilon_{\\infty}*(\\alpha + 1)) + 20*g*exp(\\epsilon_{\\infty}*(\\alpha + 1)) - 12*g*exp(\\epsilon_{\\infty}*(\\alpha + 2)) - 4*g*exp(\\epsilon_{\\infty}*(\\alpha + 3)) - 2*g + exp(4*\\epsilon_{\\infty}) - 4*exp(3*\\epsilon_{\\infty}) - 2*exp(2*\\epsilon_{\\infty}) + 4*exp(\\epsilon_{\\infty}) + 3*exp(2*\\alpha*\\epsilon_{\\infty}) - 4*exp(\\alpha*\\epsilon_{\\infty}) - 2*exp(2*\\epsilon_{\\infty}*(\\alpha + 1)) - 4*exp(\\epsilon_{\\infty}*(\\alpha + 1)) - exp(2*\\epsilon_{\\infty}*(\\alpha + 2)) + 4*exp(\\epsilon_{\\infty}*(\\alpha + 2)) + 4*exp(\\epsilon_{\\infty}*(\\alpha + 3)) + 1)/(g**2*exp(4*\\epsilon_{\\infty}) - 2*g**2*exp(2*\\epsilon_{\\infty}) + g**2*exp(2*\\alpha*\\epsilon_{\\infty}) - 2*g**2*exp(\\alpha*\\epsilon_{\\infty}) - 2*g**2*exp(2*\\epsilon_{\\infty}*(\\alpha + 1)) + g**2*exp(2*\\epsilon_{\\infty}*(\\alpha + 2)) + 4*g**2*exp(\\epsilon_{\\infty}*(\\alpha + 2)) - 2*g**2*exp(\\epsilon_{\\infty}*(\\alpha + 4)) + g**2 - 2*g*exp(4*\\epsilon_{\\infty}) + 4*g*exp(2*\\epsilon_{\\infty}) - 2*g*exp(2*\\alpha*\\epsilon_{\\infty}) + 4*g*exp(\\alpha*\\epsilon_{\\infty}) + 4*g*exp(2*\\epsilon_{\\infty}*(\\alpha + 1)) - 2*g*exp(2*\\epsilon_{\\infty}*(\\alpha + 2)) - 8*g*exp(\\epsilon_{\\infty}*(\\alpha + 2)) + 4*g*exp(\\epsilon_{\\infty}*(\\alpha + 4)) - 2*g + exp(4*\\epsilon_{\\infty}) - 2*exp(2*\\epsilon_{\\infty}) + exp(2*\\alpha*\\epsilon_{\\infty}) - 2*exp(\\alpha*\\epsilon_{\\infty}) - 2*exp(2*\\epsilon_{\\infty}*(\\alpha + 1)) + exp(2*\\epsilon_{\\infty}*(\\alpha + 2)) + 4*exp(\\epsilon_{\\infty}*(\\alpha + 2)) - 2*exp(\\epsilon_{\\infty}*(\\alpha + 4)) + 1)"
      ]
     },
     "execution_count": 14,
     "metadata": {},
     "output_type": "execute_result"
    }
   ],
   "source": [
    "part = sym.simplify(sym.diff(var, g))\n",
    "part"
   ]
  },
  {
   "cell_type": "markdown",
   "id": "fe70114f",
   "metadata": {},
   "source": [
    "#### Solving partial derivative equality to == 0 (minimize w.r.t. g)"
   ]
  },
  {
   "cell_type": "code",
   "execution_count": 15,
   "id": "2d2a4a1e",
   "metadata": {},
   "outputs": [
    {
     "data": {
      "text/latex": [
       "$\\displaystyle \\frac{- \\sqrt{e^{4 \\epsilon_{\\infty}} + 12 e^{3 \\epsilon_{\\infty}} e^{\\alpha \\epsilon_{\\infty}} - 12 e^{2 \\epsilon_{\\infty}} e^{2 \\alpha \\epsilon_{\\infty}} - 14 e^{2 \\epsilon_{\\infty}} + 12 e^{\\epsilon_{\\infty}} e^{\\alpha \\epsilon_{\\infty}} + 1} + e^{2 \\epsilon_{\\infty}} - 6 e^{\\epsilon_{\\infty}} + 6 e^{\\alpha \\epsilon_{\\infty}} - 1}{- 6 e^{\\epsilon_{\\infty}} + 6 e^{\\alpha \\epsilon_{\\infty}}}$"
      ],
      "text/plain": [
       "(-sqrt(exp(4*\\epsilon_{\\infty}) + 12*exp(3*\\epsilon_{\\infty})*exp(\\alpha*\\epsilon_{\\infty}) - 12*exp(2*\\epsilon_{\\infty})*exp(2*\\alpha*\\epsilon_{\\infty}) - 14*exp(2*\\epsilon_{\\infty}) + 12*exp(\\epsilon_{\\infty})*exp(\\alpha*\\epsilon_{\\infty}) + 1) + exp(2*\\epsilon_{\\infty}) - 6*exp(\\epsilon_{\\infty}) + 6*exp(\\alpha*\\epsilon_{\\infty}) - 1)/(-6*exp(\\epsilon_{\\infty}) + 6*exp(\\alpha*\\epsilon_{\\infty}))"
      ]
     },
     "execution_count": 15,
     "metadata": {},
     "output_type": "execute_result"
    }
   ],
   "source": [
    "resul = sym.solve(part, g)\n",
    "resul[0]"
   ]
  },
  {
   "cell_type": "markdown",
   "id": "b48fad76",
   "metadata": {},
   "source": [
    "#### Optimal g result in terms of $\\epsilon_{\\infty}$ and $\\epsilon_1=\\alpha \\epsilon_{\\infty}$"
   ]
  },
  {
   "cell_type": "code",
   "execution_count": 16,
   "id": "1894bc7c",
   "metadata": {},
   "outputs": [
    {
     "data": {
      "text/latex": [
       "$\\displaystyle \\frac{\\sqrt{e^{4 \\epsilon_{\\infty}} - 14 e^{2 \\epsilon_{\\infty}} - 12 e^{2 \\epsilon_{\\infty} \\left(\\alpha + 1\\right)} + 12 e^{\\epsilon_{\\infty} \\left(\\alpha + 1\\right)} + 12 e^{\\epsilon_{\\infty} \\left(\\alpha + 3\\right)} + 1} - e^{2 \\epsilon_{\\infty}} + 6 e^{\\epsilon_{\\infty}} - 6 e^{\\alpha \\epsilon_{\\infty}} + 1}{6 \\left(e^{\\epsilon_{\\infty}} - e^{\\alpha \\epsilon_{\\infty}}\\right)}$"
      ],
      "text/plain": [
       "(sqrt(exp(4*\\epsilon_{\\infty}) - 14*exp(2*\\epsilon_{\\infty}) - 12*exp(2*\\epsilon_{\\infty}*(\\alpha + 1)) + 12*exp(\\epsilon_{\\infty}*(\\alpha + 1)) + 12*exp(\\epsilon_{\\infty}*(\\alpha + 3)) + 1) - exp(2*\\epsilon_{\\infty}) + 6*exp(\\epsilon_{\\infty}) - 6*exp(\\alpha*\\epsilon_{\\infty}) + 1)/(6*(exp(\\epsilon_{\\infty}) - exp(\\alpha*\\epsilon_{\\infty})))"
      ]
     },
     "execution_count": 16,
     "metadata": {},
     "output_type": "execute_result"
    }
   ],
   "source": [
    "g = sym.simplify(resul[0])\n",
    "g"
   ]
  },
  {
   "cell_type": "markdown",
   "id": "4ee24fce",
   "metadata": {},
   "source": [
    "## Reproducing Fig. 1 (optimal g analysis) in paper"
   ]
  },
  {
   "cell_type": "code",
   "execution_count": 17,
   "id": "55cff93a",
   "metadata": {},
   "outputs": [],
   "source": [
    "import matplotlib.pyplot as plt\n",
    "import matplotlib\n",
    "params = {'axes.titlesize':'20','xtick.labelsize':'20','ytick.labelsize':'20','font.size':'18','legend.fontsize':'medium','lines.linewidth':'2.5','font.weight':'normal','lines.markersize':'16','text.latex.preamble': r'\\usepackage{amsfonts}','lines.markerfacecolor':'none'\n",
    "          }\n",
    "matplotlib.rcParams.update(params)\n",
    "plt.rcParams[\"mathtext.fontset\"] = \"cm\"\n",
    "plt.rc('text', usetex=True)\n",
    "plt.rc('font', family='serif')"
   ]
  },
  {
   "cell_type": "code",
   "execution_count": 18,
   "id": "f4198eb2",
   "metadata": {},
   "outputs": [],
   "source": [
    "# upper bound, i.e., eps_inf\n",
    "lst_eps = np.arange(0.5, 5.1, 0.5)\n",
    "\n",
    "# alpha values\n",
    "lst_alpha = [0.1, 0.2, 0.3, 0.4, 0.5, 0.6]"
   ]
  },
  {
   "cell_type": "code",
   "execution_count": 19,
   "id": "ca1fe197",
   "metadata": {},
   "outputs": [
    {
     "data": {
      "image/png": "[encoded data removed]",
      "text/plain": [
       "<Figure size 576x288 with 1 Axes>"
      ]
     },
     "metadata": {
      "needs_background": "light"
     },
     "output_type": "display_data"
    }
   ],
   "source": [
    "plt.figure(figsize=(8, 4))\n",
    "plt.grid(color='grey', linestyle='dashdot', linewidth=0.5)\n",
    "\n",
    "markers = ['d', 'o', 's', '*', 'H', '>','X']\n",
    "\n",
    "idx=0\n",
    "for alpha in lst_alpha:\n",
    "    \n",
    "    opt_g = []\n",
    "\n",
    "    for eps_perm in lst_eps:\n",
    "\n",
    "        g = max(np.rint((np.sqrt(np.exp(4*eps_perm) - 14*np.exp(2*eps_perm) - 12*np.exp(2*eps_perm*(alpha+1)) + 12*np.exp(eps_perm*(alpha+1)) + 12*np.exp(eps_perm*(alpha+3)) + 1) - np.exp(2*eps_perm) + 6*np.exp(eps_perm) - 6*np.exp(eps_perm*alpha) + 1) / (6*(np.exp(eps_perm) - np.exp(eps_perm*alpha)))), 2)\n",
    "        opt_g.append(g)\n",
    "\n",
    "    plt.plot(opt_g, label=r'$\\alpha={}$'.format(round(alpha,2)), marker=markers[idx])\n",
    "    plt.xlabel('$\\epsilon_{\\infty}$')\n",
    "    plt.ylabel('Optimal g')\n",
    "    idx+=1\n",
    "plt.yticks(np.arange(0,18, 2), np.arange(0,18, 2))\n",
    "plt.xticks(range(len(lst_eps)), lst_eps)\n",
    "plt.legend(loc='upper left', ncol=2)\n",
    "# plt.savefig('', dpi=500, bbox_inches = 'tight',pad_inches = 0.1)\n",
    "plt.show()"
   ]
  },
  {
   "cell_type": "code",
   "execution_count": null,
   "id": "b0b0869f",
   "metadata": {},
   "outputs": [],
   "source": []
  },
  {
   "cell_type": "markdown",
   "id": "99d4ca3d",
   "metadata": {},
   "source": [
    "## Analysis of competitor LDP protocols"
   ]
  },
  {
   "cell_type": "markdown",
   "id": "cf5f63f3",
   "metadata": {},
   "source": [
    "#### RAPPOR's [1] version that chains SUE in both PRR and IRR steps (a.k.a. L-SUE [2])"
   ]
  },
  {
   "cell_type": "code",
   "execution_count": 20,
   "id": "f005eac3",
   "metadata": {},
   "outputs": [
    {
     "data": {
      "text/latex": [
       "$\\displaystyle \\frac{e^{\\frac{\\epsilon_{\\infty}}{2}}}{e^{\\frac{\\epsilon_{\\infty}}{2}} + 1}$"
      ],
      "text/plain": [
       "exp(\\epsilon_{\\infty}/2)/(exp(\\epsilon_{\\infty}/2) + 1)"
      ]
     },
     "metadata": {},
     "output_type": "display_data"
    },
    {
     "data": {
      "text/latex": [
       "$\\displaystyle \\frac{1}{e^{\\frac{\\epsilon_{\\infty}}{2}} + 1}$"
      ],
      "text/plain": [
       "1/(exp(\\epsilon_{\\infty}/2) + 1)"
      ]
     },
     "metadata": {},
     "output_type": "display_data"
    },
    {
     "data": {
      "text/latex": [
       "$\\displaystyle \\frac{- \\sqrt{\\left(4 e^{\\frac{7 \\epsilon_{\\infty}}{2}} - 4 e^{\\frac{5 \\epsilon_{\\infty}}{2}} - 4 e^{\\frac{3 \\epsilon_{\\infty}}{2}} + 4 e^{\\frac{\\epsilon_{\\infty}}{2}} + e^{4 \\epsilon_{\\infty}} + 4 e^{3 \\epsilon_{\\infty}} - 10 e^{2 \\epsilon_{\\infty}} + 4 e^{\\epsilon_{\\infty}} + 1\\right) e^{\\alpha \\epsilon_{\\infty}}} \\left(e^{\\epsilon_{\\infty}} - 1\\right)^{2} \\left(e^{\\alpha \\epsilon_{\\infty}} - 1\\right) + \\left(- e^{2 \\epsilon_{\\infty}} + 2 e^{\\epsilon_{\\infty}} + e^{\\alpha \\epsilon_{\\infty}} - 2 e^{\\alpha \\epsilon_{\\infty} + \\epsilon_{\\infty}} + e^{\\alpha \\epsilon_{\\infty} + 2 \\epsilon_{\\infty}} - 1\\right) \\left(e^{\\frac{3 \\epsilon_{\\infty}}{2}} - e^{\\frac{\\epsilon_{\\infty}}{2}} + e^{\\epsilon_{\\infty}} - e^{\\alpha \\epsilon_{\\infty} + \\frac{\\epsilon_{\\infty}}{2}} - e^{\\alpha \\epsilon_{\\infty} + \\epsilon_{\\infty}} + e^{\\alpha \\epsilon_{\\infty} + \\frac{3 \\epsilon_{\\infty}}{2}} + e^{\\alpha \\epsilon_{\\infty} + 2 \\epsilon_{\\infty}} - 1\\right)}{\\left(e^{\\epsilon_{\\infty}} - 1\\right)^{2} \\left(e^{\\alpha \\epsilon_{\\infty}} - 1\\right) \\left(- e^{2 \\epsilon_{\\infty}} + 2 e^{\\epsilon_{\\infty}} + e^{\\alpha \\epsilon_{\\infty}} - 2 e^{\\alpha \\epsilon_{\\infty} + \\epsilon_{\\infty}} + e^{\\alpha \\epsilon_{\\infty} + 2 \\epsilon_{\\infty}} - 1\\right)}$"
      ],
      "text/plain": [
       "(-sqrt((4*exp(7*\\epsilon_{\\infty}/2) - 4*exp(5*\\epsilon_{\\infty}/2) - 4*exp(3*\\epsilon_{\\infty}/2) + 4*exp(\\epsilon_{\\infty}/2) + exp(4*\\epsilon_{\\infty}) + 4*exp(3*\\epsilon_{\\infty}) - 10*exp(2*\\epsilon_{\\infty}) + 4*exp(\\epsilon_{\\infty}) + 1)*exp(\\alpha*\\epsilon_{\\infty}))*(exp(\\epsilon_{\\infty}) - 1)**2*(exp(\\alpha*\\epsilon_{\\infty}) - 1) + (-exp(2*\\epsilon_{\\infty}) + 2*exp(\\epsilon_{\\infty}) + exp(\\alpha*\\epsilon_{\\infty}) - 2*exp(\\alpha*\\epsilon_{\\infty} + \\epsilon_{\\infty}) + exp(\\alpha*\\epsilon_{\\infty} + 2*\\epsilon_{\\infty}) - 1)*(exp(3*\\epsilon_{\\infty}/2) - exp(\\epsilon_{\\infty}/2) + exp(\\epsilon_{\\infty}) - exp(\\alpha*\\epsilon_{\\infty} + \\epsilon_{\\infty}/2) - exp(\\alpha*\\epsilon_{\\infty} + \\epsilon_{\\infty}) + exp(\\alpha*\\epsilon_{\\infty} + 3*\\epsilon_{\\infty}/2) + exp(\\alpha*\\epsilon_{\\infty} + 2*\\epsilon_{\\infty}) - 1))/((exp(\\epsilon_{\\infty}) - 1)**2*(exp(\\alpha*\\epsilon_{\\infty}) - 1)*(-exp(2*\\epsilon_{\\infty}) + 2*exp(\\epsilon_{\\infty}) + exp(\\alpha*\\epsilon_{\\infty}) - 2*exp(\\alpha*\\epsilon_{\\infty} + \\epsilon_{\\infty}) + exp(\\alpha*\\epsilon_{\\infty} + 2*\\epsilon_{\\infty}) - 1))"
      ]
     },
     "metadata": {},
     "output_type": "display_data"
    },
    {
     "data": {
      "text/latex": [
       "$\\displaystyle - \\frac{- \\sqrt{\\left(4 e^{\\frac{7 \\epsilon_{\\infty}}{2}} - 4 e^{\\frac{5 \\epsilon_{\\infty}}{2}} - 4 e^{\\frac{3 \\epsilon_{\\infty}}{2}} + 4 e^{\\frac{\\epsilon_{\\infty}}{2}} + e^{4 \\epsilon_{\\infty}} + 4 e^{3 \\epsilon_{\\infty}} - 10 e^{2 \\epsilon_{\\infty}} + 4 e^{\\epsilon_{\\infty}} + 1\\right) e^{\\alpha \\epsilon_{\\infty}}} \\left(e^{\\epsilon_{\\infty}} - 1\\right)^{2} \\left(e^{\\alpha \\epsilon_{\\infty}} - 1\\right) + \\left(- e^{2 \\epsilon_{\\infty}} + 2 e^{\\epsilon_{\\infty}} + e^{\\alpha \\epsilon_{\\infty}} - 2 e^{\\alpha \\epsilon_{\\infty} + \\epsilon_{\\infty}} + e^{\\alpha \\epsilon_{\\infty} + 2 \\epsilon_{\\infty}} - 1\\right) \\left(e^{\\frac{3 \\epsilon_{\\infty}}{2}} - e^{\\frac{\\epsilon_{\\infty}}{2}} + e^{\\epsilon_{\\infty}} - e^{\\alpha \\epsilon_{\\infty} + \\frac{\\epsilon_{\\infty}}{2}} - e^{\\alpha \\epsilon_{\\infty} + \\epsilon_{\\infty}} + e^{\\alpha \\epsilon_{\\infty} + \\frac{3 \\epsilon_{\\infty}}{2}} + e^{\\alpha \\epsilon_{\\infty} + 2 \\epsilon_{\\infty}} - 1\\right)}{\\left(e^{\\epsilon_{\\infty}} - 1\\right)^{2} \\left(e^{\\alpha \\epsilon_{\\infty}} - 1\\right) \\left(- e^{2 \\epsilon_{\\infty}} + 2 e^{\\epsilon_{\\infty}} + e^{\\alpha \\epsilon_{\\infty}} - 2 e^{\\alpha \\epsilon_{\\infty} + \\epsilon_{\\infty}} + e^{\\alpha \\epsilon_{\\infty} + 2 \\epsilon_{\\infty}} - 1\\right)} + 1$"
      ],
      "text/plain": [
       "-(-sqrt((4*exp(7*\\epsilon_{\\infty}/2) - 4*exp(5*\\epsilon_{\\infty}/2) - 4*exp(3*\\epsilon_{\\infty}/2) + 4*exp(\\epsilon_{\\infty}/2) + exp(4*\\epsilon_{\\infty}) + 4*exp(3*\\epsilon_{\\infty}) - 10*exp(2*\\epsilon_{\\infty}) + 4*exp(\\epsilon_{\\infty}) + 1)*exp(\\alpha*\\epsilon_{\\infty}))*(exp(\\epsilon_{\\infty}) - 1)**2*(exp(\\alpha*\\epsilon_{\\infty}) - 1) + (-exp(2*\\epsilon_{\\infty}) + 2*exp(\\epsilon_{\\infty}) + exp(\\alpha*\\epsilon_{\\infty}) - 2*exp(\\alpha*\\epsilon_{\\infty} + \\epsilon_{\\infty}) + exp(\\alpha*\\epsilon_{\\infty} + 2*\\epsilon_{\\infty}) - 1)*(exp(3*\\epsilon_{\\infty}/2) - exp(\\epsilon_{\\infty}/2) + exp(\\epsilon_{\\infty}) - exp(\\alpha*\\epsilon_{\\infty} + \\epsilon_{\\infty}/2) - exp(\\alpha*\\epsilon_{\\infty} + \\epsilon_{\\infty}) + exp(\\alpha*\\epsilon_{\\infty} + 3*\\epsilon_{\\infty}/2) + exp(\\alpha*\\epsilon_{\\infty} + 2*\\epsilon_{\\infty}) - 1))/((exp(\\epsilon_{\\infty}) - 1)**2*(exp(\\alpha*\\epsilon_{\\infty}) - 1)*(-exp(2*\\epsilon_{\\infty}) + 2*exp(\\epsilon_{\\infty}) + exp(\\alpha*\\epsilon_{\\infty}) - 2*exp(\\alpha*\\epsilon_{\\infty} + \\epsilon_{\\infty}) + exp(\\alpha*\\epsilon_{\\infty} + 2*\\epsilon_{\\infty}) - 1)) + 1"
      ]
     },
     "metadata": {},
     "output_type": "display_data"
    }
   ],
   "source": [
    "eps_perm = sym.Symbol('\\epsilon_{\\infty}')\n",
    "alpha = sym.Symbol(r'\\alpha')\n",
    "eps_1 = alpha * eps_perm \n",
    "k = sym.Symbol('k')\n",
    "n = sym.Symbol('n')\n",
    "C = sym.Symbol('C(v_{i})')\n",
    "\n",
    "p1 = sym.exp(eps_perm/2) / (sym.exp(eps_perm/2) + 1)\n",
    "q1 = 1 / (sym.exp(eps_perm/2) + 1)\n",
    "\n",
    "p2 = - (sym.sqrt((4 * sym.exp(7 * eps_perm / 2) - 4 * sym.exp(5 * eps_perm / 2) - 4 * sym.exp(3 * eps_perm / 2) + 4 * sym.exp(eps_perm / 2) + sym.exp(4 * eps_perm) + 4 * sym.exp(3 * eps_perm) - 10 * sym.exp(2 * eps_perm) + 4 * sym.exp(eps_perm) + 1) * sym.exp(eps_1)) * (sym.exp(eps_1) - 1) * (sym.exp(eps_perm) - 1) ** 2 - (sym.exp(eps_1) - sym.exp(2 * eps_perm) + 2 * sym.exp(eps_perm) - 2 * sym.exp(eps_1 + eps_perm) + sym.exp(eps_1 + 2 * eps_perm) - 1) * (sym.exp(3 * eps_perm / 2) - sym.exp(eps_perm / 2) + sym.exp(eps_perm) - sym.exp(eps_1 + eps_perm / 2) - sym.exp(eps_1 + eps_perm) + sym.exp(eps_1 + 3 * eps_perm / 2) + sym.exp(eps_1 + 2 * eps_perm) - 1)) / ((sym.exp(eps_1) - 1) * (sym.exp(eps_perm) - 1) ** 2 * (sym.exp(eps_1) - sym.exp(2 * eps_perm) + 2 * sym.exp(eps_perm) - 2 * sym.exp(eps_1 + eps_perm) + sym.exp(eps_1 + 2 * eps_perm) - 1))\n",
    "q2 = 1 - p2\n",
    "display(p1, q1, p2, q2)"
   ]
  },
  {
   "cell_type": "markdown",
   "id": "dec0ac39",
   "metadata": {},
   "source": [
    "#### RAPPOR's longitudinal privacy guarantee ($\\epsilon_{\\infty}$)"
   ]
  },
  {
   "cell_type": "code",
   "execution_count": 21,
   "id": "11564818",
   "metadata": {},
   "outputs": [
    {
     "data": {
      "text/latex": [
       "$\\displaystyle e^{\\epsilon_{\\infty}}$"
      ],
      "text/plain": [
       "exp(\\epsilon_{\\infty})"
      ]
     },
     "execution_count": 21,
     "metadata": {},
     "output_type": "execute_result"
    }
   ],
   "source": [
    "sym.simplify(p1*(1-q1)/(q1*(1-p1)))"
   ]
  },
  {
   "cell_type": "markdown",
   "id": "63713df1",
   "metadata": {},
   "source": [
    "#### RAPPOR's first report guarantee ($\\epsilon_1=\\alpha \\epsilon_{\\infty}$)"
   ]
  },
  {
   "cell_type": "code",
   "execution_count": 22,
   "id": "a23bc320",
   "metadata": {},
   "outputs": [
    {
     "data": {
      "text/latex": [
       "$\\displaystyle e^{\\alpha \\epsilon_{\\infty}}$"
      ],
      "text/plain": [
       "exp(\\alpha*\\epsilon_{\\infty})"
      ]
     },
     "execution_count": 22,
     "metadata": {},
     "output_type": "execute_result"
    }
   ],
   "source": [
    "ps = p1 * p2 + (1 - p1) * q2\n",
    "qs = q1 * p2 + (1 - q1) * q2\n",
    "\n",
    "sym.simplify(ps*(1-qs)/(qs*(1-ps)))"
   ]
  },
  {
   "cell_type": "markdown",
   "id": "78c0b09e",
   "metadata": {},
   "source": [
    "#### L-OSUE [2] that chains OUE [3] and SUE in both PRR and IRR steps, respectively"
   ]
  },
  {
   "cell_type": "code",
   "execution_count": 23,
   "id": "adea1745",
   "metadata": {},
   "outputs": [
    {
     "data": {
      "text/plain": [
       "0.5"
      ]
     },
     "metadata": {},
     "output_type": "display_data"
    },
    {
     "data": {
      "text/latex": [
       "$\\displaystyle \\frac{1}{e^{\\epsilon_{\\infty}} + 1}$"
      ],
      "text/plain": [
       "1/(exp(\\epsilon_{\\infty}) + 1)"
      ]
     },
     "metadata": {},
     "output_type": "display_data"
    },
    {
     "data": {
      "text/latex": [
       "$\\displaystyle \\frac{1 - e^{\\alpha \\epsilon_{\\infty} + \\epsilon_{\\infty}}}{- e^{\\epsilon_{\\infty}} + e^{\\alpha \\epsilon_{\\infty}} - e^{\\alpha \\epsilon_{\\infty} + \\epsilon_{\\infty}} + 1}$"
      ],
      "text/plain": [
       "(1 - exp(\\alpha*\\epsilon_{\\infty} + \\epsilon_{\\infty}))/(-exp(\\epsilon_{\\infty}) + exp(\\alpha*\\epsilon_{\\infty}) - exp(\\alpha*\\epsilon_{\\infty} + \\epsilon_{\\infty}) + 1)"
      ]
     },
     "metadata": {},
     "output_type": "display_data"
    },
    {
     "data": {
      "text/latex": [
       "$\\displaystyle - \\frac{1 - e^{\\alpha \\epsilon_{\\infty} + \\epsilon_{\\infty}}}{- e^{\\epsilon_{\\infty}} + e^{\\alpha \\epsilon_{\\infty}} - e^{\\alpha \\epsilon_{\\infty} + \\epsilon_{\\infty}} + 1} + 1$"
      ],
      "text/plain": [
       "-(1 - exp(\\alpha*\\epsilon_{\\infty} + \\epsilon_{\\infty}))/(-exp(\\epsilon_{\\infty}) + exp(\\alpha*\\epsilon_{\\infty}) - exp(\\alpha*\\epsilon_{\\infty} + \\epsilon_{\\infty}) + 1) + 1"
      ]
     },
     "metadata": {},
     "output_type": "display_data"
    }
   ],
   "source": [
    "eps_perm = sym.Symbol('\\epsilon_{\\infty}')\n",
    "alpha = sym.Symbol(r'\\alpha')\n",
    "eps_1 = alpha * eps_perm \n",
    "k = sym.Symbol('k')\n",
    "n = sym.Symbol('n')\n",
    "C = sym.Symbol('C(v_{i})')\n",
    "\n",
    "p1 = 0.5\n",
    "q1 = 1 / (sym.exp(eps_perm) + 1)\n",
    "\n",
    "p2 = (1 - sym.exp(eps_1 + eps_perm)) / (sym.exp(eps_1) - sym.exp(eps_perm) - sym.exp(eps_1 + eps_perm) + 1)\n",
    "q2 = 1 - p2\n",
    "display(p1, q1, p2, q2)"
   ]
  },
  {
   "cell_type": "markdown",
   "id": "8e3a41c6",
   "metadata": {},
   "source": [
    "#### L-OSUE's longitudinal privacy guarantee ($\\epsilon_{\\infty}$)"
   ]
  },
  {
   "cell_type": "code",
   "execution_count": 24,
   "id": "4db0163c",
   "metadata": {},
   "outputs": [
    {
     "data": {
      "text/latex": [
       "$\\displaystyle 1.0 e^{\\epsilon_{\\infty}}$"
      ],
      "text/plain": [
       "1.0*exp(\\epsilon_{\\infty})"
      ]
     },
     "execution_count": 24,
     "metadata": {},
     "output_type": "execute_result"
    }
   ],
   "source": [
    "sym.simplify(p1*(1-q1)/(q1*(1-p1)))"
   ]
  },
  {
   "cell_type": "markdown",
   "id": "6d45d269",
   "metadata": {},
   "source": [
    "#### L-OSUE's first report guarantee ($\\epsilon_1=\\alpha \\epsilon_{\\infty}$)"
   ]
  },
  {
   "cell_type": "code",
   "execution_count": 25,
   "id": "02c67bee",
   "metadata": {},
   "outputs": [
    {
     "data": {
      "text/latex": [
       "$\\displaystyle e^{\\alpha \\epsilon_{\\infty}}$"
      ],
      "text/plain": [
       "exp(\\alpha*\\epsilon_{\\infty})"
      ]
     },
     "execution_count": 25,
     "metadata": {},
     "output_type": "execute_result"
    }
   ],
   "source": [
    "ps = p1 * p2 + (1 - p1) * q2\n",
    "qs = q1 * p2 + (1 - q1) * q2\n",
    "\n",
    "sym.simplify(ps*(1-qs)/(qs*(1-ps)))"
   ]
  },
  {
   "cell_type": "markdown",
   "id": "3f25f87a",
   "metadata": {},
   "source": [
    "#### L-GRR [2] that chains SUE in both PRR and IRR steps"
   ]
  },
  {
   "cell_type": "code",
   "execution_count": 26,
   "id": "99187eb7",
   "metadata": {},
   "outputs": [
    {
     "data": {
      "text/latex": [
       "$\\displaystyle \\frac{e^{\\epsilon_{\\infty}}}{k + e^{\\epsilon_{\\infty}} - 1}$"
      ],
      "text/plain": [
       "exp(\\epsilon_{\\infty})/(k + exp(\\epsilon_{\\infty}) - 1)"
      ]
     },
     "metadata": {},
     "output_type": "display_data"
    },
    {
     "data": {
      "text/latex": [
       "$\\displaystyle \\frac{1 - \\frac{e^{\\epsilon_{\\infty}}}{k + e^{\\epsilon_{\\infty}} - 1}}{k - 1}$"
      ],
      "text/plain": [
       "(1 - exp(\\epsilon_{\\infty})/(k + exp(\\epsilon_{\\infty}) - 1))/(k - 1)"
      ]
     },
     "metadata": {},
     "output_type": "display_data"
    },
    {
     "data": {
      "text/latex": [
       "$\\displaystyle \\frac{\\frac{1 - \\frac{e^{\\epsilon_{\\infty}}}{k + e^{\\epsilon_{\\infty}} - 1}}{k - 1} - \\frac{e^{\\epsilon_{\\infty}} e^{\\alpha \\epsilon_{\\infty}}}{k + e^{\\epsilon_{\\infty}} - 1}}{\\frac{k \\left(1 - \\frac{e^{\\epsilon_{\\infty}}}{k + e^{\\epsilon_{\\infty}} - 1}\\right) e^{\\alpha \\epsilon_{\\infty}}}{k - 1} - \\frac{\\left(1 - \\frac{e^{\\epsilon_{\\infty}}}{k + e^{\\epsilon_{\\infty}} - 1}\\right) e^{\\alpha \\epsilon_{\\infty}}}{k - 1} + \\frac{1 - \\frac{e^{\\epsilon_{\\infty}}}{k + e^{\\epsilon_{\\infty}} - 1}}{k - 1} - \\frac{\\left(k - 1\\right) e^{\\epsilon_{\\infty}}}{k + e^{\\epsilon_{\\infty}} - 1} - \\frac{e^{\\epsilon_{\\infty}} e^{\\alpha \\epsilon_{\\infty}}}{k + e^{\\epsilon_{\\infty}} - 1}}$"
      ],
      "text/plain": [
       "((1 - exp(\\epsilon_{\\infty})/(k + exp(\\epsilon_{\\infty}) - 1))/(k - 1) - exp(\\epsilon_{\\infty})*exp(\\alpha*\\epsilon_{\\infty})/(k + exp(\\epsilon_{\\infty}) - 1))/(k*(1 - exp(\\epsilon_{\\infty})/(k + exp(\\epsilon_{\\infty}) - 1))*exp(\\alpha*\\epsilon_{\\infty})/(k - 1) - (1 - exp(\\epsilon_{\\infty})/(k + exp(\\epsilon_{\\infty}) - 1))*exp(\\alpha*\\epsilon_{\\infty})/(k - 1) + (1 - exp(\\epsilon_{\\infty})/(k + exp(\\epsilon_{\\infty}) - 1))/(k - 1) - (k - 1)*exp(\\epsilon_{\\infty})/(k + exp(\\epsilon_{\\infty}) - 1) - exp(\\epsilon_{\\infty})*exp(\\alpha*\\epsilon_{\\infty})/(k + exp(\\epsilon_{\\infty}) - 1))"
      ]
     },
     "metadata": {},
     "output_type": "display_data"
    },
    {
     "data": {
      "text/latex": [
       "$\\displaystyle \\frac{- \\frac{\\frac{1 - \\frac{e^{\\epsilon_{\\infty}}}{k + e^{\\epsilon_{\\infty}} - 1}}{k - 1} - \\frac{e^{\\epsilon_{\\infty}} e^{\\alpha \\epsilon_{\\infty}}}{k + e^{\\epsilon_{\\infty}} - 1}}{\\frac{k \\left(1 - \\frac{e^{\\epsilon_{\\infty}}}{k + e^{\\epsilon_{\\infty}} - 1}\\right) e^{\\alpha \\epsilon_{\\infty}}}{k - 1} - \\frac{\\left(1 - \\frac{e^{\\epsilon_{\\infty}}}{k + e^{\\epsilon_{\\infty}} - 1}\\right) e^{\\alpha \\epsilon_{\\infty}}}{k - 1} + \\frac{1 - \\frac{e^{\\epsilon_{\\infty}}}{k + e^{\\epsilon_{\\infty}} - 1}}{k - 1} - \\frac{\\left(k - 1\\right) e^{\\epsilon_{\\infty}}}{k + e^{\\epsilon_{\\infty}} - 1} - \\frac{e^{\\epsilon_{\\infty}} e^{\\alpha \\epsilon_{\\infty}}}{k + e^{\\epsilon_{\\infty}} - 1}} + 1}{k - 1}$"
      ],
      "text/plain": [
       "(-((1 - exp(\\epsilon_{\\infty})/(k + exp(\\epsilon_{\\infty}) - 1))/(k - 1) - exp(\\epsilon_{\\infty})*exp(\\alpha*\\epsilon_{\\infty})/(k + exp(\\epsilon_{\\infty}) - 1))/(k*(1 - exp(\\epsilon_{\\infty})/(k + exp(\\epsilon_{\\infty}) - 1))*exp(\\alpha*\\epsilon_{\\infty})/(k - 1) - (1 - exp(\\epsilon_{\\infty})/(k + exp(\\epsilon_{\\infty}) - 1))*exp(\\alpha*\\epsilon_{\\infty})/(k - 1) + (1 - exp(\\epsilon_{\\infty})/(k + exp(\\epsilon_{\\infty}) - 1))/(k - 1) - (k - 1)*exp(\\epsilon_{\\infty})/(k + exp(\\epsilon_{\\infty}) - 1) - exp(\\epsilon_{\\infty})*exp(\\alpha*\\epsilon_{\\infty})/(k + exp(\\epsilon_{\\infty}) - 1)) + 1)/(k - 1)"
      ]
     },
     "metadata": {},
     "output_type": "display_data"
    }
   ],
   "source": [
    "eps_perm = sym.Symbol('\\epsilon_{\\infty}')\n",
    "alpha = sym.Symbol(r'\\alpha')\n",
    "eps_1 = alpha * eps_perm # (0,1)\n",
    "k = sym.Symbol('k')\n",
    "n = sym.Symbol('n')\n",
    "C = sym.Symbol('C(v_{i})')\n",
    "\n",
    "p1 = sym.exp(eps_perm) / (sym.exp(eps_perm) + k - 1)\n",
    "q1 = (1 - p1) / (k - 1)\n",
    "\n",
    "p2 = (q1 - sym.exp(eps_1) * p1) / ((-p1 * sym.exp(eps_1)) + k*q1*sym.exp(eps_1) - q1*sym.exp(eps_1) - p1*(k-1)+q1)\n",
    "q2 = (1 - p2) / (k - 1)\n",
    "display(p1, q1, p2, q2)"
   ]
  },
  {
   "cell_type": "markdown",
   "id": "56d2e6d6",
   "metadata": {},
   "source": [
    "#### L-GRR's longitudinal privacy guarantee ($\\epsilon_{\\infty}$)"
   ]
  },
  {
   "cell_type": "code",
   "execution_count": 27,
   "id": "e7e824ee",
   "metadata": {},
   "outputs": [
    {
     "data": {
      "text/latex": [
       "$\\displaystyle e^{\\epsilon_{\\infty}}$"
      ],
      "text/plain": [
       "exp(\\epsilon_{\\infty})"
      ]
     },
     "execution_count": 27,
     "metadata": {},
     "output_type": "execute_result"
    }
   ],
   "source": [
    "sym.simplify(p1/q1)"
   ]
  },
  {
   "cell_type": "markdown",
   "id": "f457c19d",
   "metadata": {},
   "source": [
    "#### L-GRR's first report guarantee ($\\epsilon_1=\\alpha \\epsilon_{\\infty}$)"
   ]
  },
  {
   "cell_type": "code",
   "execution_count": 28,
   "id": "ed67673f",
   "metadata": {},
   "outputs": [
    {
     "data": {
      "text/latex": [
       "$\\displaystyle e^{\\alpha \\epsilon_{\\infty}}$"
      ],
      "text/plain": [
       "exp(\\alpha*\\epsilon_{\\infty})"
      ]
     },
     "execution_count": 28,
     "metadata": {},
     "output_type": "execute_result"
    }
   ],
   "source": [
    "ps = p1 * p2 + q1 * q2\n",
    "qs = p1 * q2 + q1 * p2\n",
    "\n",
    "sym.simplify(ps/qs)"
   ]
  },
  {
   "cell_type": "code",
   "execution_count": null,
   "id": "6ff645bb",
   "metadata": {},
   "outputs": [],
   "source": []
  }
 ],
 "metadata": {
  "kernelspec": {
   "display_name": "Python [conda env:root] *",
   "language": "python",
   "name": "conda-root-py"
  },
  "language_info": {
   "codemirror_mode": {
    "name": "ipython",
    "version": 3
   },
   "file_extension": ".py",
   "mimetype": "text/x-python",
   "name": "python",
   "nbconvert_exporter": "python",
   "pygments_lexer": "ipython3",
   "version": "3.8.8"
  }
 },
 "nbformat": 4,
 "nbformat_minor": 5
}
