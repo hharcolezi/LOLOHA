{
 "cells": [
  {
   "cell_type": "markdown",
   "metadata": {},
   "source": [
    "\n",
    "References\n",
    "\n",
    "    [1] Erlingsson, Pihur, and Korolova (2014) \"RAPPOR: Randomized aggregatable privacy-preserving ordinal response\" (ACM CCS).\n",
    "    [2] Arcolezi et al (2022) \"Improving the Utility of Locally Differentially Private Protocols for Longitudinal and Multidimensional Frequency Estimates\" (Digital Communications and Networks).\n",
    "    [3] Wang et al (2017) \"Locally differentially private protocols for frequency estimation\" (USENIX Security).\n",
    "\n"
   ]
  },
  {
   "cell_type": "code",
   "execution_count": 1,
   "metadata": {},
   "outputs": [],
   "source": [
    "import sympy\n",
    "from sympy import Symbol, exp, ln, Rational, sqrt\n",
    "\n",
    "from typing import Any\n",
    "exp:Any = exp"
   ]
  },
  {
   "cell_type": "code",
   "execution_count": 2,
   "metadata": {},
   "outputs": [
    {
     "name": "stdout",
     "output_type": "stream",
     "text": [
      "Rappor\n"
     ]
    },
    {
     "data": {
      "text/latex": [
       "$\\displaystyle - \\frac{\\left(- \\sqrt{\\left(4 e^{\\frac{7 \\epsilon_{\\infty}}{2}} - 4 e^{\\frac{5 \\epsilon_{\\infty}}{2}} - 4 e^{\\frac{3 \\epsilon_{\\infty}}{2}} + 4 e^{\\frac{\\epsilon_{\\infty}}{2}} + e^{4 \\epsilon_{\\infty}} + 4 e^{3 \\epsilon_{\\infty}} - 10 e^{2 \\epsilon_{\\infty}} + 4 e^{\\epsilon_{\\infty}} + 1\\right) e^{\\epsilon_{1}}} \\left(e^{\\epsilon_{1}} - 1\\right) \\left(e^{\\epsilon_{\\infty}} - 1\\right)^{2} - \\left(- \\sqrt{\\left(4 e^{\\frac{7 \\epsilon_{\\infty}}{2}} - 4 e^{\\frac{5 \\epsilon_{\\infty}}{2}} - 4 e^{\\frac{3 \\epsilon_{\\infty}}{2}} + 4 e^{\\frac{\\epsilon_{\\infty}}{2}} + e^{4 \\epsilon_{\\infty}} + 4 e^{3 \\epsilon_{\\infty}} - 10 e^{2 \\epsilon_{\\infty}} + 4 e^{\\epsilon_{\\infty}} + 1\\right) e^{\\epsilon_{1}}} \\left(e^{\\epsilon_{1}} - 1\\right) \\left(e^{\\epsilon_{\\infty}} - 1\\right)^{2} - \\left(e^{\\epsilon_{1}} - 1\\right) \\left(e^{\\epsilon_{\\infty}} - 1\\right)^{2} \\left(e^{\\epsilon_{1}} - e^{2 \\epsilon_{\\infty}} + 2 e^{\\epsilon_{\\infty}} - 2 e^{\\epsilon_{1} + \\epsilon_{\\infty}} + e^{\\epsilon_{1} + 2 \\epsilon_{\\infty}} - 1\\right) + \\left(e^{\\epsilon_{1}} - e^{2 \\epsilon_{\\infty}} + 2 e^{\\epsilon_{\\infty}} - 2 e^{\\epsilon_{1} + \\epsilon_{\\infty}} + e^{\\epsilon_{1} + 2 \\epsilon_{\\infty}} - 1\\right) \\left(e^{\\frac{3 \\epsilon_{\\infty}}{2}} - e^{\\frac{\\epsilon_{\\infty}}{2}} + e^{\\epsilon_{\\infty}} - e^{\\epsilon_{1} + \\frac{\\epsilon_{\\infty}}{2}} - e^{\\epsilon_{1} + \\epsilon_{\\infty}} + e^{\\epsilon_{1} + \\frac{3 \\epsilon_{\\infty}}{2}} + e^{\\epsilon_{1} + 2 \\epsilon_{\\infty}} - 1\\right)\\right) e^{\\frac{\\epsilon_{\\infty}}{2}} + \\left(e^{\\epsilon_{1}} - e^{2 \\epsilon_{\\infty}} + 2 e^{\\epsilon_{\\infty}} - 2 e^{\\epsilon_{1} + \\epsilon_{\\infty}} + e^{\\epsilon_{1} + 2 \\epsilon_{\\infty}} - 1\\right) \\left(e^{\\frac{3 \\epsilon_{\\infty}}{2}} - e^{\\frac{\\epsilon_{\\infty}}{2}} + e^{\\epsilon_{\\infty}} - e^{\\epsilon_{1} + \\frac{\\epsilon_{\\infty}}{2}} - e^{\\epsilon_{1} + \\epsilon_{\\infty}} + e^{\\epsilon_{1} + \\frac{3 \\epsilon_{\\infty}}{2}} + e^{\\epsilon_{1} + 2 \\epsilon_{\\infty}} - 1\\right)\\right) \\left(- \\sqrt{\\left(4 e^{\\frac{7 \\epsilon_{\\infty}}{2}} - 4 e^{\\frac{5 \\epsilon_{\\infty}}{2}} - 4 e^{\\frac{3 \\epsilon_{\\infty}}{2}} + 4 e^{\\frac{\\epsilon_{\\infty}}{2}} + e^{4 \\epsilon_{\\infty}} + 4 e^{3 \\epsilon_{\\infty}} - 10 e^{2 \\epsilon_{\\infty}} + 4 e^{\\epsilon_{\\infty}} + 1\\right) e^{\\epsilon_{1}}} \\left(e^{\\epsilon_{1}} - 1\\right) \\left(e^{\\epsilon_{\\infty}} - 1\\right)^{2} - \\left(e^{\\epsilon_{1}} - 1\\right) \\left(e^{\\frac{\\epsilon_{\\infty}}{2}} + 1\\right) \\left(e^{\\epsilon_{\\infty}} - 1\\right)^{2} \\left(e^{\\epsilon_{1}} - e^{2 \\epsilon_{\\infty}} + 2 e^{\\epsilon_{\\infty}} - 2 e^{\\epsilon_{1} + \\epsilon_{\\infty}} + e^{\\epsilon_{1} + 2 \\epsilon_{\\infty}} - 1\\right) - \\left(- \\sqrt{\\left(4 e^{\\frac{7 \\epsilon_{\\infty}}{2}} - 4 e^{\\frac{5 \\epsilon_{\\infty}}{2}} - 4 e^{\\frac{3 \\epsilon_{\\infty}}{2}} + 4 e^{\\frac{\\epsilon_{\\infty}}{2}} + e^{4 \\epsilon_{\\infty}} + 4 e^{3 \\epsilon_{\\infty}} - 10 e^{2 \\epsilon_{\\infty}} + 4 e^{\\epsilon_{\\infty}} + 1\\right) e^{\\epsilon_{1}}} \\left(e^{\\epsilon_{1}} - 1\\right) \\left(e^{\\epsilon_{\\infty}} - 1\\right)^{2} - \\left(e^{\\epsilon_{1}} - 1\\right) \\left(e^{\\epsilon_{\\infty}} - 1\\right)^{2} \\left(e^{\\epsilon_{1}} - e^{2 \\epsilon_{\\infty}} + 2 e^{\\epsilon_{\\infty}} - 2 e^{\\epsilon_{1} + \\epsilon_{\\infty}} + e^{\\epsilon_{1} + 2 \\epsilon_{\\infty}} - 1\\right) + \\left(e^{\\epsilon_{1}} - e^{2 \\epsilon_{\\infty}} + 2 e^{\\epsilon_{\\infty}} - 2 e^{\\epsilon_{1} + \\epsilon_{\\infty}} + e^{\\epsilon_{1} + 2 \\epsilon_{\\infty}} - 1\\right) \\left(e^{\\frac{3 \\epsilon_{\\infty}}{2}} - e^{\\frac{\\epsilon_{\\infty}}{2}} + e^{\\epsilon_{\\infty}} - e^{\\epsilon_{1} + \\frac{\\epsilon_{\\infty}}{2}} - e^{\\epsilon_{1} + \\epsilon_{\\infty}} + e^{\\epsilon_{1} + \\frac{3 \\epsilon_{\\infty}}{2}} + e^{\\epsilon_{1} + 2 \\epsilon_{\\infty}} - 1\\right)\\right) e^{\\frac{\\epsilon_{\\infty}}{2}} + \\left(e^{\\epsilon_{1}} - e^{2 \\epsilon_{\\infty}} + 2 e^{\\epsilon_{\\infty}} - 2 e^{\\epsilon_{1} + \\epsilon_{\\infty}} + e^{\\epsilon_{1} + 2 \\epsilon_{\\infty}} - 1\\right) \\left(e^{\\frac{3 \\epsilon_{\\infty}}{2}} - e^{\\frac{\\epsilon_{\\infty}}{2}} + e^{\\epsilon_{\\infty}} - e^{\\epsilon_{1} + \\frac{\\epsilon_{\\infty}}{2}} - e^{\\epsilon_{1} + \\epsilon_{\\infty}} + e^{\\epsilon_{1} + \\frac{3 \\epsilon_{\\infty}}{2}} + e^{\\epsilon_{1} + 2 \\epsilon_{\\infty}} - 1\\right)\\right)}{n \\left(e^{\\frac{\\epsilon_{\\infty}}{2}} - 1\\right)^{2} \\left(- 2 \\sqrt{\\left(4 e^{\\frac{7 \\epsilon_{\\infty}}{2}} - 4 e^{\\frac{5 \\epsilon_{\\infty}}{2}} - 4 e^{\\frac{3 \\epsilon_{\\infty}}{2}} + 4 e^{\\frac{\\epsilon_{\\infty}}{2}} + e^{4 \\epsilon_{\\infty}} + 4 e^{3 \\epsilon_{\\infty}} - 10 e^{2 \\epsilon_{\\infty}} + 4 e^{\\epsilon_{\\infty}} + 1\\right) e^{\\epsilon_{1}}} \\left(e^{\\epsilon_{1}} - 1\\right) \\left(e^{\\epsilon_{\\infty}} - 1\\right)^{2} - \\left(e^{\\epsilon_{1}} - 1\\right) \\left(e^{\\epsilon_{\\infty}} - 1\\right)^{2} \\left(e^{\\epsilon_{1}} - e^{2 \\epsilon_{\\infty}} + 2 e^{\\epsilon_{\\infty}} - 2 e^{\\epsilon_{1} + \\epsilon_{\\infty}} + e^{\\epsilon_{1} + 2 \\epsilon_{\\infty}} - 1\\right) + 2 \\left(e^{\\epsilon_{1}} - e^{2 \\epsilon_{\\infty}} + 2 e^{\\epsilon_{\\infty}} - 2 e^{\\epsilon_{1} + \\epsilon_{\\infty}} + e^{\\epsilon_{1} + 2 \\epsilon_{\\infty}} - 1\\right) \\left(e^{\\frac{3 \\epsilon_{\\infty}}{2}} - e^{\\frac{\\epsilon_{\\infty}}{2}} + e^{\\epsilon_{\\infty}} - e^{\\epsilon_{1} + \\frac{\\epsilon_{\\infty}}{2}} - e^{\\epsilon_{1} + \\epsilon_{\\infty}} + e^{\\epsilon_{1} + \\frac{3 \\epsilon_{\\infty}}{2}} + e^{\\epsilon_{1} + 2 \\epsilon_{\\infty}} - 1\\right)\\right)^{2}}$"
      ],
      "text/plain": [
       "-(-sqrt((4*exp(7*\\epsilon_\\infty/2) - 4*exp(5*\\epsilon_\\infty/2) - 4*exp(3*\\epsilon_\\infty/2) + 4*exp(\\epsilon_\\infty/2) + exp(4*\\epsilon_\\infty) + 4*exp(3*\\epsilon_\\infty) - 10*exp(2*\\epsilon_\\infty) + 4*exp(\\epsilon_\\infty) + 1)*exp(\\epsilon_1))*(exp(\\epsilon_1) - 1)*(exp(\\epsilon_\\infty) - 1)**2 - (-sqrt((4*exp(7*\\epsilon_\\infty/2) - 4*exp(5*\\epsilon_\\infty/2) - 4*exp(3*\\epsilon_\\infty/2) + 4*exp(\\epsilon_\\infty/2) + exp(4*\\epsilon_\\infty) + 4*exp(3*\\epsilon_\\infty) - 10*exp(2*\\epsilon_\\infty) + 4*exp(\\epsilon_\\infty) + 1)*exp(\\epsilon_1))*(exp(\\epsilon_1) - 1)*(exp(\\epsilon_\\infty) - 1)**2 - (exp(\\epsilon_1) - 1)*(exp(\\epsilon_\\infty) - 1)**2*(exp(\\epsilon_1) - exp(2*\\epsilon_\\infty) + 2*exp(\\epsilon_\\infty) - 2*exp(\\epsilon_1 + \\epsilon_\\infty) + exp(\\epsilon_1 + 2*\\epsilon_\\infty) - 1) + (exp(\\epsilon_1) - exp(2*\\epsilon_\\infty) + 2*exp(\\epsilon_\\infty) - 2*exp(\\epsilon_1 + \\epsilon_\\infty) + exp(\\epsilon_1 + 2*\\epsilon_\\infty) - 1)*(exp(3*\\epsilon_\\infty/2) - exp(\\epsilon_\\infty/2) + exp(\\epsilon_\\infty) - exp(\\epsilon_1 + \\epsilon_\\infty/2) - exp(\\epsilon_1 + \\epsilon_\\infty) + exp(\\epsilon_1 + 3*\\epsilon_\\infty/2) + exp(\\epsilon_1 + 2*\\epsilon_\\infty) - 1))*exp(\\epsilon_\\infty/2) + (exp(\\epsilon_1) - exp(2*\\epsilon_\\infty) + 2*exp(\\epsilon_\\infty) - 2*exp(\\epsilon_1 + \\epsilon_\\infty) + exp(\\epsilon_1 + 2*\\epsilon_\\infty) - 1)*(exp(3*\\epsilon_\\infty/2) - exp(\\epsilon_\\infty/2) + exp(\\epsilon_\\infty) - exp(\\epsilon_1 + \\epsilon_\\infty/2) - exp(\\epsilon_1 + \\epsilon_\\infty) + exp(\\epsilon_1 + 3*\\epsilon_\\infty/2) + exp(\\epsilon_1 + 2*\\epsilon_\\infty) - 1))*(-sqrt((4*exp(7*\\epsilon_\\infty/2) - 4*exp(5*\\epsilon_\\infty/2) - 4*exp(3*\\epsilon_\\infty/2) + 4*exp(\\epsilon_\\infty/2) + exp(4*\\epsilon_\\infty) + 4*exp(3*\\epsilon_\\infty) - 10*exp(2*\\epsilon_\\infty) + 4*exp(\\epsilon_\\infty) + 1)*exp(\\epsilon_1))*(exp(\\epsilon_1) - 1)*(exp(\\epsilon_\\infty) - 1)**2 - (exp(\\epsilon_1) - 1)*(exp(\\epsilon_\\infty/2) + 1)*(exp(\\epsilon_\\infty) - 1)**2*(exp(\\epsilon_1) - exp(2*\\epsilon_\\infty) + 2*exp(\\epsilon_\\infty) - 2*exp(\\epsilon_1 + \\epsilon_\\infty) + exp(\\epsilon_1 + 2*\\epsilon_\\infty) - 1) - (-sqrt((4*exp(7*\\epsilon_\\infty/2) - 4*exp(5*\\epsilon_\\infty/2) - 4*exp(3*\\epsilon_\\infty/2) + 4*exp(\\epsilon_\\infty/2) + exp(4*\\epsilon_\\infty) + 4*exp(3*\\epsilon_\\infty) - 10*exp(2*\\epsilon_\\infty) + 4*exp(\\epsilon_\\infty) + 1)*exp(\\epsilon_1))*(exp(\\epsilon_1) - 1)*(exp(\\epsilon_\\infty) - 1)**2 - (exp(\\epsilon_1) - 1)*(exp(\\epsilon_\\infty) - 1)**2*(exp(\\epsilon_1) - exp(2*\\epsilon_\\infty) + 2*exp(\\epsilon_\\infty) - 2*exp(\\epsilon_1 + \\epsilon_\\infty) + exp(\\epsilon_1 + 2*\\epsilon_\\infty) - 1) + (exp(\\epsilon_1) - exp(2*\\epsilon_\\infty) + 2*exp(\\epsilon_\\infty) - 2*exp(\\epsilon_1 + \\epsilon_\\infty) + exp(\\epsilon_1 + 2*\\epsilon_\\infty) - 1)*(exp(3*\\epsilon_\\infty/2) - exp(\\epsilon_\\infty/2) + exp(\\epsilon_\\infty) - exp(\\epsilon_1 + \\epsilon_\\infty/2) - exp(\\epsilon_1 + \\epsilon_\\infty) + exp(\\epsilon_1 + 3*\\epsilon_\\infty/2) + exp(\\epsilon_1 + 2*\\epsilon_\\infty) - 1))*exp(\\epsilon_\\infty/2) + (exp(\\epsilon_1) - exp(2*\\epsilon_\\infty) + 2*exp(\\epsilon_\\infty) - 2*exp(\\epsilon_1 + \\epsilon_\\infty) + exp(\\epsilon_1 + 2*\\epsilon_\\infty) - 1)*(exp(3*\\epsilon_\\infty/2) - exp(\\epsilon_\\infty/2) + exp(\\epsilon_\\infty) - exp(\\epsilon_1 + \\epsilon_\\infty/2) - exp(\\epsilon_1 + \\epsilon_\\infty) + exp(\\epsilon_1 + 3*\\epsilon_\\infty/2) + exp(\\epsilon_1 + 2*\\epsilon_\\infty) - 1))/(n*(exp(\\epsilon_\\infty/2) - 1)**2*(-2*sqrt((4*exp(7*\\epsilon_\\infty/2) - 4*exp(5*\\epsilon_\\infty/2) - 4*exp(3*\\epsilon_\\infty/2) + 4*exp(\\epsilon_\\infty/2) + exp(4*\\epsilon_\\infty) + 4*exp(3*\\epsilon_\\infty) - 10*exp(2*\\epsilon_\\infty) + 4*exp(\\epsilon_\\infty) + 1)*exp(\\epsilon_1))*(exp(\\epsilon_1) - 1)*(exp(\\epsilon_\\infty) - 1)**2 - (exp(\\epsilon_1) - 1)*(exp(\\epsilon_\\infty) - 1)**2*(exp(\\epsilon_1) - exp(2*\\epsilon_\\infty) + 2*exp(\\epsilon_\\infty) - 2*exp(\\epsilon_1 + \\epsilon_\\infty) + exp(\\epsilon_1 + 2*\\epsilon_\\infty) - 1) + 2*(exp(\\epsilon_1) - exp(2*\\epsilon_\\infty) + 2*exp(\\epsilon_\\infty) - 2*exp(\\epsilon_1 + \\epsilon_\\infty) + exp(\\epsilon_1 + 2*\\epsilon_\\infty) - 1)*(exp(3*\\epsilon_\\infty/2) - exp(\\epsilon_\\infty/2) + exp(\\epsilon_\\infty) - exp(\\epsilon_1 + \\epsilon_\\infty/2) - exp(\\epsilon_1 + \\epsilon_\\infty) + exp(\\epsilon_1 + 3*\\epsilon_\\infty/2) + exp(\\epsilon_1 + 2*\\epsilon_\\infty) - 1))**2)"
      ]
     },
     "metadata": {},
     "output_type": "display_data"
    },
    {
     "name": "stdout",
     "output_type": "stream",
     "text": [
      "$\\displaystyle - \\frac{\\left(- \\sqrt{\\left(4 e^{\\frac{7 \\epsilon_{\\infty}}{2}} - 4 e^{\\frac{5 \\epsilon_{\\infty}}{2}} - 4 e^{\\frac{3 \\epsilon_{\\infty}}{2}} + 4 e^{\\frac{\\epsilon_{\\infty}}{2}} + e^{4 \\epsilon_{\\infty}} + 4 e^{3 \\epsilon_{\\infty}} - 10 e^{2 \\epsilon_{\\infty}} + 4 e^{\\epsilon_{\\infty}} + 1\\right) e^{\\epsilon_{1}}} \\left(e^{\\epsilon_{1}} - 1\\right) \\left(e^{\\epsilon_{\\infty}} - 1\\right)^{2} - \\left(- \\sqrt{\\left(4 e^{\\frac{7 \\epsilon_{\\infty}}{2}} - 4 e^{\\frac{5 \\epsilon_{\\infty}}{2}} - 4 e^{\\frac{3 \\epsilon_{\\infty}}{2}} + 4 e^{\\frac{\\epsilon_{\\infty}}{2}} + e^{4 \\epsilon_{\\infty}} + 4 e^{3 \\epsilon_{\\infty}} - 10 e^{2 \\epsilon_{\\infty}} + 4 e^{\\epsilon_{\\infty}} + 1\\right) e^{\\epsilon_{1}}} \\left(e^{\\epsilon_{1}} - 1\\right) \\left(e^{\\epsilon_{\\infty}} - 1\\right)^{2} - \\left(e^{\\epsilon_{1}} - 1\\right) \\left(e^{\\epsilon_{\\infty}} - 1\\right)^{2} \\left(e^{\\epsilon_{1}} - e^{2 \\epsilon_{\\infty}} + 2 e^{\\epsilon_{\\infty}} - 2 e^{\\epsilon_{1} + \\epsilon_{\\infty}} + e^{\\epsilon_{1} + 2 \\epsilon_{\\infty}} - 1\\right) + \\left(e^{\\epsilon_{1}} - e^{2 \\epsilon_{\\infty}} + 2 e^{\\epsilon_{\\infty}} - 2 e^{\\epsilon_{1} + \\epsilon_{\\infty}} + e^{\\epsilon_{1} + 2 \\epsilon_{\\infty}} - 1\\right) \\left(e^{\\frac{3 \\epsilon_{\\infty}}{2}} - e^{\\frac{\\epsilon_{\\infty}}{2}} + e^{\\epsilon_{\\infty}} - e^{\\epsilon_{1} + \\frac{\\epsilon_{\\infty}}{2}} - e^{\\epsilon_{1} + \\epsilon_{\\infty}} + e^{\\epsilon_{1} + \\frac{3 \\epsilon_{\\infty}}{2}} + e^{\\epsilon_{1} + 2 \\epsilon_{\\infty}} - 1\\right)\\right) e^{\\frac{\\epsilon_{\\infty}}{2}} + \\left(e^{\\epsilon_{1}} - e^{2 \\epsilon_{\\infty}} + 2 e^{\\epsilon_{\\infty}} - 2 e^{\\epsilon_{1} + \\epsilon_{\\infty}} + e^{\\epsilon_{1} + 2 \\epsilon_{\\infty}} - 1\\right) \\left(e^{\\frac{3 \\epsilon_{\\infty}}{2}} - e^{\\frac{\\epsilon_{\\infty}}{2}} + e^{\\epsilon_{\\infty}} - e^{\\epsilon_{1} + \\frac{\\epsilon_{\\infty}}{2}} - e^{\\epsilon_{1} + \\epsilon_{\\infty}} + e^{\\epsilon_{1} + \\frac{3 \\epsilon_{\\infty}}{2}} + e^{\\epsilon_{1} + 2 \\epsilon_{\\infty}} - 1\\right)\\right) \\left(- \\sqrt{\\left(4 e^{\\frac{7 \\epsilon_{\\infty}}{2}} - 4 e^{\\frac{5 \\epsilon_{\\infty}}{2}} - 4 e^{\\frac{3 \\epsilon_{\\infty}}{2}} + 4 e^{\\frac{\\epsilon_{\\infty}}{2}} + e^{4 \\epsilon_{\\infty}} + 4 e^{3 \\epsilon_{\\infty}} - 10 e^{2 \\epsilon_{\\infty}} + 4 e^{\\epsilon_{\\infty}} + 1\\right) e^{\\epsilon_{1}}} \\left(e^{\\epsilon_{1}} - 1\\right) \\left(e^{\\epsilon_{\\infty}} - 1\\right)^{2} - \\left(e^{\\epsilon_{1}} - 1\\right) \\left(e^{\\frac{\\epsilon_{\\infty}}{2}} + 1\\right) \\left(e^{\\epsilon_{\\infty}} - 1\\right)^{2} \\left(e^{\\epsilon_{1}} - e^{2 \\epsilon_{\\infty}} + 2 e^{\\epsilon_{\\infty}} - 2 e^{\\epsilon_{1} + \\epsilon_{\\infty}} + e^{\\epsilon_{1} + 2 \\epsilon_{\\infty}} - 1\\right) - \\left(- \\sqrt{\\left(4 e^{\\frac{7 \\epsilon_{\\infty}}{2}} - 4 e^{\\frac{5 \\epsilon_{\\infty}}{2}} - 4 e^{\\frac{3 \\epsilon_{\\infty}}{2}} + 4 e^{\\frac{\\epsilon_{\\infty}}{2}} + e^{4 \\epsilon_{\\infty}} + 4 e^{3 \\epsilon_{\\infty}} - 10 e^{2 \\epsilon_{\\infty}} + 4 e^{\\epsilon_{\\infty}} + 1\\right) e^{\\epsilon_{1}}} \\left(e^{\\epsilon_{1}} - 1\\right) \\left(e^{\\epsilon_{\\infty}} - 1\\right)^{2} - \\left(e^{\\epsilon_{1}} - 1\\right) \\left(e^{\\epsilon_{\\infty}} - 1\\right)^{2} \\left(e^{\\epsilon_{1}} - e^{2 \\epsilon_{\\infty}} + 2 e^{\\epsilon_{\\infty}} - 2 e^{\\epsilon_{1} + \\epsilon_{\\infty}} + e^{\\epsilon_{1} + 2 \\epsilon_{\\infty}} - 1\\right) + \\left(e^{\\epsilon_{1}} - e^{2 \\epsilon_{\\infty}} + 2 e^{\\epsilon_{\\infty}} - 2 e^{\\epsilon_{1} + \\epsilon_{\\infty}} + e^{\\epsilon_{1} + 2 \\epsilon_{\\infty}} - 1\\right) \\left(e^{\\frac{3 \\epsilon_{\\infty}}{2}} - e^{\\frac{\\epsilon_{\\infty}}{2}} + e^{\\epsilon_{\\infty}} - e^{\\epsilon_{1} + \\frac{\\epsilon_{\\infty}}{2}} - e^{\\epsilon_{1} + \\epsilon_{\\infty}} + e^{\\epsilon_{1} + \\frac{3 \\epsilon_{\\infty}}{2}} + e^{\\epsilon_{1} + 2 \\epsilon_{\\infty}} - 1\\right)\\right) e^{\\frac{\\epsilon_{\\infty}}{2}} + \\left(e^{\\epsilon_{1}} - e^{2 \\epsilon_{\\infty}} + 2 e^{\\epsilon_{\\infty}} - 2 e^{\\epsilon_{1} + \\epsilon_{\\infty}} + e^{\\epsilon_{1} + 2 \\epsilon_{\\infty}} - 1\\right) \\left(e^{\\frac{3 \\epsilon_{\\infty}}{2}} - e^{\\frac{\\epsilon_{\\infty}}{2}} + e^{\\epsilon_{\\infty}} - e^{\\epsilon_{1} + \\frac{\\epsilon_{\\infty}}{2}} - e^{\\epsilon_{1} + \\epsilon_{\\infty}} + e^{\\epsilon_{1} + \\frac{3 \\epsilon_{\\infty}}{2}} + e^{\\epsilon_{1} + 2 \\epsilon_{\\infty}} - 1\\right)\\right)}{n \\left(e^{\\frac{\\epsilon_{\\infty}}{2}} - 1\\right)^{2} \\left(- 2 \\sqrt{\\left(4 e^{\\frac{7 \\epsilon_{\\infty}}{2}} - 4 e^{\\frac{5 \\epsilon_{\\infty}}{2}} - 4 e^{\\frac{3 \\epsilon_{\\infty}}{2}} + 4 e^{\\frac{\\epsilon_{\\infty}}{2}} + e^{4 \\epsilon_{\\infty}} + 4 e^{3 \\epsilon_{\\infty}} - 10 e^{2 \\epsilon_{\\infty}} + 4 e^{\\epsilon_{\\infty}} + 1\\right) e^{\\epsilon_{1}}} \\left(e^{\\epsilon_{1}} - 1\\right) \\left(e^{\\epsilon_{\\infty}} - 1\\right)^{2} - \\left(e^{\\epsilon_{1}} - 1\\right) \\left(e^{\\epsilon_{\\infty}} - 1\\right)^{2} \\left(e^{\\epsilon_{1}} - e^{2 \\epsilon_{\\infty}} + 2 e^{\\epsilon_{\\infty}} - 2 e^{\\epsilon_{1} + \\epsilon_{\\infty}} + e^{\\epsilon_{1} + 2 \\epsilon_{\\infty}} - 1\\right) + 2 \\left(e^{\\epsilon_{1}} - e^{2 \\epsilon_{\\infty}} + 2 e^{\\epsilon_{\\infty}} - 2 e^{\\epsilon_{1} + \\epsilon_{\\infty}} + e^{\\epsilon_{1} + 2 \\epsilon_{\\infty}} - 1\\right) \\left(e^{\\frac{3 \\epsilon_{\\infty}}{2}} - e^{\\frac{\\epsilon_{\\infty}}{2}} + e^{\\epsilon_{\\infty}} - e^{\\epsilon_{1} + \\frac{\\epsilon_{\\infty}}{2}} - e^{\\epsilon_{1} + \\epsilon_{\\infty}} + e^{\\epsilon_{1} + \\frac{3 \\epsilon_{\\infty}}{2}} + e^{\\epsilon_{1} + 2 \\epsilon_{\\infty}} - 1\\right)\\right)^{2}}$\n",
      "\n",
      "OptLonUE\n"
     ]
    },
    {
     "data": {
      "text/latex": [
       "$\\displaystyle \\frac{4 e^{\\epsilon_{1}}}{n \\left(e^{2 \\epsilon_{1}} - 2 e^{\\epsilon_{1}} + 1\\right)}$"
      ],
      "text/plain": [
       "4*exp(\\epsilon_1)/(n*(exp(2*\\epsilon_1) - 2*exp(\\epsilon_1) + 1))"
      ]
     },
     "metadata": {},
     "output_type": "display_data"
    },
    {
     "name": "stdout",
     "output_type": "stream",
     "text": [
      "$\\displaystyle \\frac{4 e^{\\epsilon_{1}}}{n \\left(e^{2 \\epsilon_{1}} - 2 e^{\\epsilon_{1}} + 1\\right)}$\n",
      "\n",
      "LonGRR\n"
     ]
    },
    {
     "data": {
      "text/latex": [
       "$\\displaystyle - \\frac{\\left(\\left(1 - e^{\\epsilon_{1} + \\epsilon_{\\infty}}\\right) \\left(- \\left(k - 1\\right) \\left(e^{\\epsilon_{1}} - e^{\\epsilon_{\\infty}}\\right) + e^{\\epsilon_{1} + \\epsilon_{\\infty}} - 1\\right) + \\left(e^{\\epsilon_{1}} - e^{\\epsilon_{\\infty}}\\right) \\left(- k - e^{\\epsilon_{\\infty}} + 2\\right) \\left(\\left(k - 1\\right) \\left(e^{\\epsilon_{1}} - e^{\\epsilon_{\\infty}}\\right) - e^{\\epsilon_{1} + \\epsilon_{\\infty}} + 1\\right)\\right) \\left(- \\left(1 - e^{\\epsilon_{1} + \\epsilon_{\\infty}}\\right) \\left(\\left(k - 1\\right) \\left(- e^{\\epsilon_{1}} + e^{\\epsilon_{\\infty}}\\right) + e^{\\epsilon_{1} + \\epsilon_{\\infty}} - 1\\right) - \\left(- e^{\\epsilon_{1}} + e^{\\epsilon_{\\infty}}\\right) \\left(- k - e^{\\epsilon_{\\infty}} + 2\\right) \\left(- \\left(k - 1\\right) \\left(e^{\\epsilon_{1}} - e^{\\epsilon_{\\infty}}\\right) + e^{\\epsilon_{1} + \\epsilon_{\\infty}} - 1\\right) - \\left(k + e^{\\epsilon_{\\infty}} - 1\\right) \\left(\\left(k - 1\\right) \\left(- e^{\\epsilon_{1}} + e^{\\epsilon_{\\infty}}\\right) + e^{\\epsilon_{1} + \\epsilon_{\\infty}} - 1\\right) \\left(- \\left(k - 1\\right) \\left(e^{\\epsilon_{1}} - e^{\\epsilon_{\\infty}}\\right) + e^{\\epsilon_{1} + \\epsilon_{\\infty}} - 1\\right)\\right) \\left(\\left(k - 1\\right) \\left(e^{\\epsilon_{1}} - e^{\\epsilon_{\\infty}}\\right) - e^{\\epsilon_{1} + \\epsilon_{\\infty}} + 1\\right)}{n \\left(1 - e^{\\epsilon_{\\infty}}\\right)^{2} \\left(\\left(1 - e^{\\epsilon_{1} + \\epsilon_{\\infty}}\\right) \\left(- \\left(k - 1\\right) \\left(e^{\\epsilon_{1}} - e^{\\epsilon_{\\infty}}\\right) + e^{\\epsilon_{1} + \\epsilon_{\\infty}} - 1\\right) + \\left(e^{\\epsilon_{1}} - e^{\\epsilon_{\\infty}}\\right) \\left(\\left(k - 1\\right) \\left(e^{\\epsilon_{1}} - e^{\\epsilon_{\\infty}}\\right) - e^{\\epsilon_{1} + \\epsilon_{\\infty}} + 1\\right)\\right)^{2} \\left(\\left(k - 1\\right) \\left(- e^{\\epsilon_{1}} + e^{\\epsilon_{\\infty}}\\right) + e^{\\epsilon_{1} + \\epsilon_{\\infty}} - 1\\right)}$"
      ],
      "text/plain": [
       "-((1 - exp(\\epsilon_1 + \\epsilon_\\infty))*(-(k - 1)*(exp(\\epsilon_1) - exp(\\epsilon_\\infty)) + exp(\\epsilon_1 + \\epsilon_\\infty) - 1) + (exp(\\epsilon_1) - exp(\\epsilon_\\infty))*(-k - exp(\\epsilon_\\infty) + 2)*((k - 1)*(exp(\\epsilon_1) - exp(\\epsilon_\\infty)) - exp(\\epsilon_1 + \\epsilon_\\infty) + 1))*(-(1 - exp(\\epsilon_1 + \\epsilon_\\infty))*((k - 1)*(-exp(\\epsilon_1) + exp(\\epsilon_\\infty)) + exp(\\epsilon_1 + \\epsilon_\\infty) - 1) - (-exp(\\epsilon_1) + exp(\\epsilon_\\infty))*(-k - exp(\\epsilon_\\infty) + 2)*(-(k - 1)*(exp(\\epsilon_1) - exp(\\epsilon_\\infty)) + exp(\\epsilon_1 + \\epsilon_\\infty) - 1) - (k + exp(\\epsilon_\\infty) - 1)*((k - 1)*(-exp(\\epsilon_1) + exp(\\epsilon_\\infty)) + exp(\\epsilon_1 + \\epsilon_\\infty) - 1)*(-(k - 1)*(exp(\\epsilon_1) - exp(\\epsilon_\\infty)) + exp(\\epsilon_1 + \\epsilon_\\infty) - 1))*((k - 1)*(exp(\\epsilon_1) - exp(\\epsilon_\\infty)) - exp(\\epsilon_1 + \\epsilon_\\infty) + 1)/(n*(1 - exp(\\epsilon_\\infty))**2*((1 - exp(\\epsilon_1 + \\epsilon_\\infty))*(-(k - 1)*(exp(\\epsilon_1) - exp(\\epsilon_\\infty)) + exp(\\epsilon_1 + \\epsilon_\\infty) - 1) + (exp(\\epsilon_1) - exp(\\epsilon_\\infty))*((k - 1)*(exp(\\epsilon_1) - exp(\\epsilon_\\infty)) - exp(\\epsilon_1 + \\epsilon_\\infty) + 1))**2*((k - 1)*(-exp(\\epsilon_1) + exp(\\epsilon_\\infty)) + exp(\\epsilon_1 + \\epsilon_\\infty) - 1))"
      ]
     },
     "metadata": {},
     "output_type": "display_data"
    },
    {
     "name": "stdout",
     "output_type": "stream",
     "text": [
      "$\\displaystyle - \\frac{\\left(\\left(1 - e^{\\epsilon_{1} + \\epsilon_{\\infty}}\\right) \\left(- \\left(k - 1\\right) \\left(e^{\\epsilon_{1}} - e^{\\epsilon_{\\infty}}\\right) + e^{\\epsilon_{1} + \\epsilon_{\\infty}} - 1\\right) + \\left(e^{\\epsilon_{1}} - e^{\\epsilon_{\\infty}}\\right) \\left(- k - e^{\\epsilon_{\\infty}} + 2\\right) \\left(\\left(k - 1\\right) \\left(e^{\\epsilon_{1}} - e^{\\epsilon_{\\infty}}\\right) - e^{\\epsilon_{1} + \\epsilon_{\\infty}} + 1\\right)\\right) \\left(- \\left(1 - e^{\\epsilon_{1} + \\epsilon_{\\infty}}\\right) \\left(\\left(k - 1\\right) \\left(- e^{\\epsilon_{1}} + e^{\\epsilon_{\\infty}}\\right) + e^{\\epsilon_{1} + \\epsilon_{\\infty}} - 1\\right) - \\left(- e^{\\epsilon_{1}} + e^{\\epsilon_{\\infty}}\\right) \\left(- k - e^{\\epsilon_{\\infty}} + 2\\right) \\left(- \\left(k - 1\\right) \\left(e^{\\epsilon_{1}} - e^{\\epsilon_{\\infty}}\\right) + e^{\\epsilon_{1} + \\epsilon_{\\infty}} - 1\\right) - \\left(k + e^{\\epsilon_{\\infty}} - 1\\right) \\left(\\left(k - 1\\right) \\left(- e^{\\epsilon_{1}} + e^{\\epsilon_{\\infty}}\\right) + e^{\\epsilon_{1} + \\epsilon_{\\infty}} - 1\\right) \\left(- \\left(k - 1\\right) \\left(e^{\\epsilon_{1}} - e^{\\epsilon_{\\infty}}\\right) + e^{\\epsilon_{1} + \\epsilon_{\\infty}} - 1\\right)\\right) \\left(\\left(k - 1\\right) \\left(e^{\\epsilon_{1}} - e^{\\epsilon_{\\infty}}\\right) - e^{\\epsilon_{1} + \\epsilon_{\\infty}} + 1\\right)}{n \\left(1 - e^{\\epsilon_{\\infty}}\\right)^{2} \\left(\\left(1 - e^{\\epsilon_{1} + \\epsilon_{\\infty}}\\right) \\left(- \\left(k - 1\\right) \\left(e^{\\epsilon_{1}} - e^{\\epsilon_{\\infty}}\\right) + e^{\\epsilon_{1} + \\epsilon_{\\infty}} - 1\\right) + \\left(e^{\\epsilon_{1}} - e^{\\epsilon_{\\infty}}\\right) \\left(\\left(k - 1\\right) \\left(e^{\\epsilon_{1}} - e^{\\epsilon_{\\infty}}\\right) - e^{\\epsilon_{1} + \\epsilon_{\\infty}} + 1\\right)\\right)^{2} \\left(\\left(k - 1\\right) \\left(- e^{\\epsilon_{1}} + e^{\\epsilon_{\\infty}}\\right) + e^{\\epsilon_{1} + \\epsilon_{\\infty}} - 1\\right)}$\n",
      "\n",
      "dBitFlip\n"
     ]
    },
    {
     "data": {
      "text/latex": [
       "$\\displaystyle \\frac{b}{2 d n \\sinh{\\left(\\frac{\\epsilon_{\\infty}}{2} \\right)}}$"
      ],
      "text/plain": [
       "b/(2*d*n*sinh(\\epsilon_\\infty/2))"
      ]
     },
     "metadata": {},
     "output_type": "display_data"
    },
    {
     "name": "stdout",
     "output_type": "stream",
     "text": [
      "$\\displaystyle \\frac{b}{2 d n \\sinh{\\left(\\frac{\\epsilon_{\\infty}}{2} \\right)}}$\n",
      "\n",
      "Loloha\n"
     ]
    },
    {
     "data": {
      "text/latex": [
       "$\\displaystyle - \\frac{\\left(\\left(e^{\\epsilon_{1}} - e^{\\epsilon_{\\infty}}\\right) \\left(g + e^{\\epsilon_{\\infty}} - 2\\right) - e^{\\epsilon_{1} + \\epsilon_{\\infty}} + 1\\right) \\left(\\left(e^{\\epsilon_{1}} - e^{\\epsilon_{\\infty}}\\right) \\left(g + e^{\\epsilon_{\\infty}} - 2\\right) - \\left(g + e^{\\epsilon_{\\infty}} - 1\\right) \\left(\\left(g - 1\\right) \\left(e^{\\epsilon_{1}} - e^{\\epsilon_{\\infty}}\\right) - e^{\\epsilon_{1} + \\epsilon_{\\infty}} + 1\\right) - e^{\\epsilon_{1} + \\epsilon_{\\infty}} + 1\\right)}{n \\left(e^{\\epsilon_{\\infty}} - 1\\right)^{2} \\left(e^{\\epsilon_{1}} - e^{\\epsilon_{\\infty}} + e^{\\epsilon_{1} + \\epsilon_{\\infty}} - 1\\right)^{2}}$"
      ],
      "text/plain": [
       "-((exp(\\epsilon_1) - exp(\\epsilon_\\infty))*(g + exp(\\epsilon_\\infty) - 2) - exp(\\epsilon_1 + \\epsilon_\\infty) + 1)*((exp(\\epsilon_1) - exp(\\epsilon_\\infty))*(g + exp(\\epsilon_\\infty) - 2) - (g + exp(\\epsilon_\\infty) - 1)*((g - 1)*(exp(\\epsilon_1) - exp(\\epsilon_\\infty)) - exp(\\epsilon_1 + \\epsilon_\\infty) + 1) - exp(\\epsilon_1 + \\epsilon_\\infty) + 1)/(n*(exp(\\epsilon_\\infty) - 1)**2*(exp(\\epsilon_1) - exp(\\epsilon_\\infty) + exp(\\epsilon_1 + \\epsilon_\\infty) - 1)**2)"
      ]
     },
     "metadata": {},
     "output_type": "display_data"
    },
    {
     "name": "stdout",
     "output_type": "stream",
     "text": [
      "$\\displaystyle - \\frac{\\left(\\left(e^{\\epsilon_{1}} - e^{\\epsilon_{\\infty}}\\right) \\left(g + e^{\\epsilon_{\\infty}} - 2\\right) - e^{\\epsilon_{1} + \\epsilon_{\\infty}} + 1\\right) \\left(\\left(e^{\\epsilon_{1}} - e^{\\epsilon_{\\infty}}\\right) \\left(g + e^{\\epsilon_{\\infty}} - 2\\right) - \\left(g + e^{\\epsilon_{\\infty}} - 1\\right) \\left(\\left(g - 1\\right) \\left(e^{\\epsilon_{1}} - e^{\\epsilon_{\\infty}}\\right) - e^{\\epsilon_{1} + \\epsilon_{\\infty}} + 1\\right) - e^{\\epsilon_{1} + \\epsilon_{\\infty}} + 1\\right)}{n \\left(e^{\\epsilon_{\\infty}} - 1\\right)^{2} \\left(e^{\\epsilon_{1}} - e^{\\epsilon_{\\infty}} + e^{\\epsilon_{1} + \\epsilon_{\\infty}} - 1\\right)^{2}}$\n",
      "\n"
     ]
    }
   ],
   "source": [
    "one = Rational(1,1)\n",
    "k = Symbol('k')\n",
    "n = Symbol('n')\n",
    "d = Symbol('d')\n",
    "b = Symbol('b')\n",
    "g = Symbol('g')\n",
    "epsInf = Symbol('\\\\epsilon_\\\\infty')\n",
    "epsOne = Symbol('\\\\epsilon_1')\n",
    "epsIrr = ln((exp(epsInf+epsOne)-1) / (exp(epsInf)-exp(epsOne)))\n",
    "\n",
    "def varStar(p1,q1,p2,q2):\n",
    "    return (p2*q1-q2*(q1-1))*(-p2*q1+q2*(q1-1)+1) / n / (p1-q1)**2 / (p2-q2)**2\n",
    "\n",
    "def varStarSingleRound(p,q):\n",
    "    return (q*(1-q))/n/(p-q)\n",
    "\n",
    "def Rappor():\n",
    "    p1 = exp(epsInf/2) / (1 + exp(epsInf/2))\n",
    "    q1 = 1 / (1 + exp(epsInf/2))\n",
    "    p2 = - (sqrt((4 * exp(7 * epsInf / 2) - 4 * exp(5 * epsInf / 2) - 4 * exp(3 * epsInf / 2) + 4 * exp(epsInf / 2) + exp(4 * epsInf) + 4 * exp(3 * epsInf) - 10 * exp(2 * epsInf) + 4 * exp(epsInf) + 1) * exp(epsOne)) * (exp(epsOne) - 1) * (exp(epsInf) - 1) ** 2 - (exp(epsOne) - exp(2 * epsInf) + 2 * exp(epsInf) - 2 * exp( epsOne + epsInf) + exp(epsOne + 2 * epsInf) - 1) * (exp(3 * epsInf / 2) - exp(epsInf / 2) + exp(epsInf) - exp( epsOne + epsInf / 2) - exp(epsOne + epsInf) + exp(epsOne + 3 * epsInf / 2) + exp( epsOne + 2 * epsInf) - 1)) / ((exp(epsOne) - 1) * (exp(epsInf) - 1) ** 2 * (exp(epsOne) - exp(2 * epsInf) + 2 * exp(epsInf) - 2 * exp(epsOne + epsInf) + exp(epsOne + 2 * epsInf) - 1))\n",
    "    q2 = 1 - p2\n",
    "    vStar = varStar(p1, q1, p2, q2)\n",
    "    return vStar\n",
    "\n",
    "def OptLonUE():\n",
    "    p1 = one / 2\n",
    "    q1 = 1 / (1 + exp(epsInf))\n",
    "    p2 = (exp(epsInf)*exp(epsOne) - 1)\n",
    "    p2 /= exp(epsInf) - exp(epsOne) + exp(epsInf+epsOne) - 1\n",
    "    q2 = 1 - p2\n",
    "    vStar = varStar(p1, q1, p2, q2)\n",
    "    return vStar\n",
    "\n",
    "def LonGRR():\n",
    "    p1 = exp(epsInf) / (exp(epsInf)+k-1)\n",
    "    q1 = (1 - p1) / (k-1)\n",
    "    p2 = exp(epsInf+epsOne) - 1\n",
    "    p2 /= (k-1) * (exp(epsInf) - exp(epsOne)) + exp(epsInf+epsOne) - 1\n",
    "    q2 = (1 - p2) / (k-1)\n",
    "    vStar = varStar(p1, q1, p2, q2)\n",
    "    return vStar\n",
    "\n",
    "def dBitFlip():\n",
    "    # p, q as in Rappor\n",
    "    p = exp(epsInf/2) / (1 + exp(epsInf/2))\n",
    "    q = 1 / (1 + exp(epsInf/2))\n",
    "    vStar = b/d * varStarSingleRound(p, q)\n",
    "    return vStar\n",
    "\n",
    "def Loloha():\n",
    "    p1 = exp(epsInf) / (g-1 + exp(epsInf))\n",
    "    q1 = 1 / (g-1 + exp(epsInf))\n",
    "    p2 = exp(epsIrr) / (g-1 + exp(epsIrr))\n",
    "    q2 = 1 / (g-1 + exp(epsIrr))\n",
    "    vStar = varStar(p1, q1, p2, q2)\n",
    "    return vStar\n",
    "\n",
    "\n",
    "n = Symbol('n')\n",
    "\n",
    "functions = [Rappor, OptLonUE, LonGRR, dBitFlip, Loloha]\n",
    "\n",
    "for f in functions:\n",
    "    print(f.__name__)\n",
    "    vStar = sympy.simplify(f())\n",
    "    display(vStar)\n",
    "    print(vStar._repr_latex_())\n",
    "    print()\n"
   ]
  },
  {
   "cell_type": "code",
   "execution_count": null,
   "metadata": {},
   "outputs": [],
   "source": []
  }
 ],
 "metadata": {
  "kernelspec": {
   "display_name": "Python 3.8.10 64-bit",
   "language": "python",
   "name": "python3"
  },
  "language_info": {
   "codemirror_mode": {
    "name": "ipython",
    "version": 3
   },
   "file_extension": ".py",
   "mimetype": "text/x-python",
   "name": "python",
   "nbconvert_exporter": "python",
   "pygments_lexer": "ipython3",
   "version": "3.8.10"
  },
  "vscode": {
   "interpreter": {
    "hash": "916dbcbb3f70747c44a77c7bcd40155683ae19c65e1c03b4aa3499c5328201f1"
   }
  }
 },
 "nbformat": 4,
 "nbformat_minor": 2
}
