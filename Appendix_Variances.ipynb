{
 "cells": [
  {
   "cell_type": "code",
   "execution_count": 13,
   "metadata": {},
   "outputs": [],
   "source": [
    "import sympy\n",
    "from sympy import Symbol, exp, ln"
   ]
  },
  {
   "cell_type": "code",
   "execution_count": 29,
   "metadata": {},
   "outputs": [
    {
     "name": "stdout",
     "output_type": "stream",
     "text": [
      "Rappor\n"
     ]
    },
    {
     "data": {
      "text/latex": [
       "$\\displaystyle \\frac{\\tilde{\\infty}}{n \\tanh^{2}{\\left(\\frac{\\epsilon_{\\infty}}{4} \\right)}}$"
      ],
      "text/plain": [
       "zoo/(n*tanh(\\epsilon_\\infty/4)**2)"
      ]
     },
     "metadata": {},
     "output_type": "display_data"
    },
    {
     "name": "stdout",
     "output_type": "stream",
     "text": [
      "OptLonUE\n"
     ]
    },
    {
     "data": {
      "text/latex": [
       "$\\displaystyle \\frac{4 e^{\\epsilon_{1}}}{n \\left(e^{2 \\epsilon_{1}} - 2 e^{\\epsilon_{1}} + 1\\right)}$"
      ],
      "text/plain": [
       "4*exp(\\epsilon_1)/(n*(exp(2*\\epsilon_1) - 2*exp(\\epsilon_1) + 1))"
      ]
     },
     "metadata": {},
     "output_type": "display_data"
    },
    {
     "name": "stdout",
     "output_type": "stream",
     "text": [
      "Loloha\n"
     ]
    },
    {
     "data": {
      "text/latex": [
       "$\\displaystyle \\frac{\\left(- \\left(e^{\\epsilon_{1}} - e^{\\epsilon_{\\infty}}\\right) \\left(g + e^{\\epsilon_{\\infty}} - 2\\right) \\left(\\left(g - 1\\right) \\left(e^{\\epsilon_{1}} - e^{\\epsilon_{\\infty}}\\right) - e^{\\epsilon_{1} + \\epsilon_{\\infty}} + 1\\right) + \\left(e^{\\epsilon_{1} + \\epsilon_{\\infty}} - 1\\right) \\left(\\left(g - 1\\right) \\left(e^{\\epsilon_{1}} - e^{\\epsilon_{\\infty}}\\right) - e^{\\epsilon_{1} + \\epsilon_{\\infty}} + 1\\right)\\right) \\left(\\left(g - 1\\right) \\left(e^{\\epsilon_{1}} - e^{\\epsilon_{\\infty}}\\right) - e^{\\epsilon_{1} + \\epsilon_{\\infty}} + 1\\right) \\left(\\left(e^{\\epsilon_{1}} - e^{\\epsilon_{\\infty}}\\right) \\left(g + e^{\\epsilon_{\\infty}} - 2\\right) - \\left(g + e^{\\epsilon_{\\infty}} - 1\\right) \\left(\\left(g - 1\\right) \\left(e^{\\epsilon_{1}} - e^{\\epsilon_{\\infty}}\\right) - e^{\\epsilon_{1} + \\epsilon_{\\infty}} + 1\\right) - e^{\\epsilon_{1} + \\epsilon_{\\infty}} + 1\\right)}{n \\left(\\left(e^{\\epsilon_{1}} - e^{\\epsilon_{\\infty}}\\right) \\left(\\left(g - 1\\right) \\left(e^{\\epsilon_{1}} - e^{\\epsilon_{\\infty}}\\right) - e^{\\epsilon_{1} + \\epsilon_{\\infty}} + 1\\right) + \\left(e^{\\epsilon_{1} + \\epsilon_{\\infty}} - 1\\right) \\left(\\left(g - 1\\right) \\left(e^{\\epsilon_{1}} - e^{\\epsilon_{\\infty}}\\right) - e^{\\epsilon_{1} + \\epsilon_{\\infty}} + 1\\right)\\right)^{2} \\left(e^{\\epsilon_{\\infty}} - 1\\right)^{2}}$"
      ],
      "text/plain": [
       "(-(exp(\\epsilon_1) - exp(\\epsilon_\\infty))*(g + exp(\\epsilon_\\infty) - 2)*((g - 1)*(exp(\\epsilon_1) - exp(\\epsilon_\\infty)) - exp(\\epsilon_1 + \\epsilon_\\infty) + 1) + (exp(\\epsilon_1 + \\epsilon_\\infty) - 1)*((g - 1)*(exp(\\epsilon_1) - exp(\\epsilon_\\infty)) - exp(\\epsilon_1 + \\epsilon_\\infty) + 1))*((g - 1)*(exp(\\epsilon_1) - exp(\\epsilon_\\infty)) - exp(\\epsilon_1 + \\epsilon_\\infty) + 1)*((exp(\\epsilon_1) - exp(\\epsilon_\\infty))*(g + exp(\\epsilon_\\infty) - 2) - (g + exp(\\epsilon_\\infty) - 1)*((g - 1)*(exp(\\epsilon_1) - exp(\\epsilon_\\infty)) - exp(\\epsilon_1 + \\epsilon_\\infty) + 1) - exp(\\epsilon_1 + \\epsilon_\\infty) + 1)/(n*((exp(\\epsilon_1) - exp(\\epsilon_\\infty))*((g - 1)*(exp(\\epsilon_1) - exp(\\epsilon_\\infty)) - exp(\\epsilon_1 + \\epsilon_\\infty) + 1) + (exp(\\epsilon_1 + \\epsilon_\\infty) - 1)*((g - 1)*(exp(\\epsilon_1) - exp(\\epsilon_\\infty)) - exp(\\epsilon_1 + \\epsilon_\\infty) + 1))**2*(exp(\\epsilon_\\infty) - 1)**2)"
      ]
     },
     "metadata": {},
     "output_type": "display_data"
    },
    {
     "name": "stdout",
     "output_type": "stream",
     "text": [
      "LonGRR\n"
     ]
    },
    {
     "data": {
      "text/latex": [
       "$\\displaystyle - \\frac{\\left(\\left(e^{\\epsilon_{1}} - e^{\\epsilon_{\\infty}}\\right) \\left(k + e^{\\epsilon_{\\infty}} - 2\\right) - e^{\\epsilon_{1} + \\epsilon_{\\infty}} + 1\\right) \\left(\\left(e^{\\epsilon_{1}} - e^{\\epsilon_{\\infty}}\\right) \\left(k + e^{\\epsilon_{\\infty}} - 2\\right) - \\left(k + e^{\\epsilon_{\\infty}} - 1\\right) \\left(\\left(k - 1\\right) \\left(e^{\\epsilon_{1}} - e^{\\epsilon_{\\infty}}\\right) - e^{\\epsilon_{1} + \\epsilon_{\\infty}} + 1\\right) - e^{\\epsilon_{1} + \\epsilon_{\\infty}} + 1\\right)}{n \\left(e^{\\epsilon_{\\infty}} - 1\\right)^{2} \\left(e^{\\epsilon_{1}} - e^{\\epsilon_{\\infty}} + e^{\\epsilon_{1} + \\epsilon_{\\infty}} - 1\\right)^{2}}$"
      ],
      "text/plain": [
       "-((exp(\\epsilon_1) - exp(\\epsilon_\\infty))*(k + exp(\\epsilon_\\infty) - 2) - exp(\\epsilon_1 + \\epsilon_\\infty) + 1)*((exp(\\epsilon_1) - exp(\\epsilon_\\infty))*(k + exp(\\epsilon_\\infty) - 2) - (k + exp(\\epsilon_\\infty) - 1)*((k - 1)*(exp(\\epsilon_1) - exp(\\epsilon_\\infty)) - exp(\\epsilon_1 + \\epsilon_\\infty) + 1) - exp(\\epsilon_1 + \\epsilon_\\infty) + 1)/(n*(exp(\\epsilon_\\infty) - 1)**2*(exp(\\epsilon_1) - exp(\\epsilon_\\infty) + exp(\\epsilon_1 + \\epsilon_\\infty) - 1)**2)"
      ]
     },
     "metadata": {},
     "output_type": "display_data"
    },
    {
     "name": "stdout",
     "output_type": "stream",
     "text": [
      "dBitFlip\n"
     ]
    },
    {
     "data": {
      "text/latex": [
       "$\\displaystyle \\frac{1}{4 n \\sinh^{2}{\\left(\\frac{\\epsilon_{\\infty}}{4} \\right)}}$"
      ],
      "text/plain": [
       "1/(4*n*sinh(\\epsilon_\\infty/4)**2)"
      ]
     },
     "metadata": {},
     "output_type": "display_data"
    }
   ],
   "source": [
    "\n",
    "one = sympy.frac(0)+1\n",
    "k = Symbol('k')\n",
    "g = Symbol('g')\n",
    "epsIrr = ln((exp(epsInf+epsOne)-1) / (exp(epsInf)-exp(epsOne)))\n",
    "\n",
    "def Rappor():\n",
    "    p1 = exp(epsInf/2) / (1 + exp(epsInf/2))\n",
    "    q1 = 1 / (1 + exp(epsInf/2))\n",
    "    p2, q2 = one/4, one/4\n",
    "    return p1, q1, p2, q2\n",
    "\n",
    "def OptLonUE():\n",
    "    p1 = one / 2\n",
    "    q1 = 1 / (1 + exp(epsInf))\n",
    "    p2 = (exp(epsInf)*exp(epsOne) - 1)\n",
    "    p2 /= exp(epsInf) - exp(epsOne) + exp(epsInf+epsOne) - 1\n",
    "    q2 = 1 - p2\n",
    "    return p1, q1, p2, q2\n",
    "\n",
    "def LonGRR():\n",
    "    p1 = exp(epsInf) / (exp(epsInf)+k-1)\n",
    "    q1 = (1 - p1) / (k-1)\n",
    "    p2 = exp(epsInf+epsOne) - 1\n",
    "    p2 /= (k-1) * (exp(epsInf) - exp(epsOne)) + exp(epsInf+epsOne) - 1\n",
    "    q2 = (1 - p2) / (k-1)\n",
    "    return p1, q1, p2, q2\n",
    "\n",
    "def dBitFlip():\n",
    "    p1, q1, _, _ = Rappor()\n",
    "    p2 = 1 # ??\n",
    "    q2 = 0 # ??\n",
    "    return p1, q1, p2, q2\n",
    "\n",
    "def Loloha():\n",
    "    p1 = exp(epsInf) / (g-1 + exp(epsInf))\n",
    "    q1 = 1 / (g-1 + exp(epsInf))\n",
    "    p2 = exp(epsIrr) / (g-1 + exp(epsIrr))\n",
    "    q2 = 1 / (g-1 + exp(epsIrr))\n",
    "    return p1, q1, p2, q2\n",
    "\n",
    "\n",
    "n = Symbol('n')\n",
    "def varStar(p1,q1,p2,q2):\n",
    "    return (p2*q1-q2*(q1-1))*(-p2*q1+q2*(q1-1)+1) / n / (p1-q1)**2 / (p2-q2)**2\n",
    "\n",
    "functions = [Rappor, OptLonUE, Loloha, LonGRR, dBitFlip]\n",
    "\n",
    "for f in functions:\n",
    "    print(f.__name__)\n",
    "    display(sympy.simplify(varStar(*map(sympy.simplify,f()))))\n",
    "\n"
   ]
  },
  {
   "cell_type": "code",
   "execution_count": null,
   "metadata": {},
   "outputs": [],
   "source": []
  }
 ],
 "metadata": {
  "kernelspec": {
   "display_name": "Python 3",
   "language": "python",
   "name": "python3"
  },
  "language_info": {
   "codemirror_mode": {
    "name": "ipython",
    "version": 3
   },
   "file_extension": ".py",
   "mimetype": "text/x-python",
   "name": "python",
   "nbconvert_exporter": "python",
   "pygments_lexer": "ipython3",
   "version": "3.8.10"
  }
 },
 "nbformat": 4,
 "nbformat_minor": 2
}
